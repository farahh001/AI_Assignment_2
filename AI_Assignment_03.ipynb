{
  "cells": [
    {
      "cell_type": "markdown",
      "metadata": {
        "id": "view-in-github",
        "colab_type": "text"
      },
      "source": [
        "<a href=\"https://colab.research.google.com/github/farahh001/AI_Assignments/blob/main/AI_Assignment_03.ipynb\" target=\"_parent\"><img src=\"https://colab.research.google.com/assets/colab-badge.svg\" alt=\"Open In Colab\"/></a>"
      ]
    },
    {
      "cell_type": "markdown",
      "metadata": {
        "id": "5IVzUkrMvvf0"
      },
      "source": [
        "\n"
      ]
    },

    {
      "cell_type": "code",
      "execution_count": null,
      "metadata": {
        "id": "G_9v757Yvvf3"
      },
      "outputs": [],
      "source": [
        "# Imports section\n",
        "import pandas as pd\n",
        "import numpy as np\n",
        "from sklearn.model_selection import train_test_split\n",
        "# Train the model\n",
        "from sklearn.linear_model import LinearRegression\n",
        "from sklearn.model_selection import cross_val_score\n",
        "from sklearn.preprocessing import PolynomialFeatures\n",
        "from matplotlib import pyplot as plt\n",
        "\n"
      ]
    },
    {
      "cell_type": "markdown",
      "metadata": {
        "id": "xQ-ywoWyvvf4"
      },
      "source": [
        "## Part 1. Loading the dataset"
      ]
    },
    {
      "cell_type": "code",
      "execution_count": null,
      "metadata": {
        "id": "WQH03oxBvvf5"
      },
      "outputs": [],
      "source": [
        "# Using pandas load the dataset (load remotely, not locally)\n",
        "life_on_Mars  = \"https://raw.githubusercontent.com/profmcnich/example_notebook/main/science_data_large.csv\"\n",
        "df = pd.read_csv(life_on_Mars)\n",
        "\n",
        "\n"
      ]
    },
    {
      "cell_type": "code",
      "source": [
        "# Output the first 15 rows of the data\n",
        "df.head(15)\n"
      ],
      "metadata": {
        "colab": {
          "base_uri": "https://localhost:8080/",
          "height": 519
        },
        "id": "s8y3lVeUyD5U",
        "outputId": "dd13ce4d-289d-4aa3-8894-b22b2967825a"
      },
      "execution_count": null,
      "outputs": [
        {
          "output_type": "execute_result",
          "data": {
            "text/plain": [
              "    Temperature °C  Mols KCL     Size nm^3\n",
              "0              469       647  6.244743e+05\n",
              "1              403       694  5.779610e+05\n",
              "2              302       975  6.196847e+05\n",
              "3              779       916  1.460449e+06\n",
              "4              901        18  4.325726e+04\n",
              "5              545       637  7.124634e+05\n",
              "6              660       519  7.006960e+05\n",
              "7              143       869  2.718260e+05\n",
              "8               89       461  8.919803e+04\n",
              "9              294       776  4.770210e+05\n",
              "10             991       117  2.441771e+05\n",
              "11             307       781  5.006455e+05\n",
              "12             206        70  3.145200e+04\n",
              "13             437       599  5.390215e+05\n",
              "14             566        75  9.185271e+04"
            ],
            "text/html": [
              "\n",
              "  <div id=\"df-89ceda8e-b3f7-460c-b0af-f47915c77ee5\">\n",
              "    <div class=\"colab-df-container\">\n",
              "      <div>\n",
              "<style scoped>\n",
              "    .dataframe tbody tr th:only-of-type {\n",
              "        vertical-align: middle;\n",
              "    }\n",
              "\n",
              "    .dataframe tbody tr th {\n",
              "        vertical-align: top;\n",
              "    }\n",
              "\n",
              "    .dataframe thead th {\n",
              "        text-align: right;\n",
              "    }\n",
              "</style>\n",
              "<table border=\"1\" class=\"dataframe\">\n",
              "  <thead>\n",
              "    <tr style=\"text-align: right;\">\n",
              "      <th></th>\n",
              "      <th>Temperature °C</th>\n",
              "      <th>Mols KCL</th>\n",
              "      <th>Size nm^3</th>\n",
              "    </tr>\n",
              "  </thead>\n",
              "  <tbody>\n",
              "    <tr>\n",
              "      <th>0</th>\n",
              "      <td>469</td>\n",
              "      <td>647</td>\n",
              "      <td>6.244743e+05</td>\n",
              "    </tr>\n",
              "    <tr>\n",
              "      <th>1</th>\n",
              "      <td>403</td>\n",
              "      <td>694</td>\n",
              "      <td>5.779610e+05</td>\n",
              "    </tr>\n",
              "    <tr>\n",
              "      <th>2</th>\n",
              "      <td>302</td>\n",
              "      <td>975</td>\n",
              "      <td>6.196847e+05</td>\n",
              "    </tr>\n",
              "    <tr>\n",
              "      <th>3</th>\n",
              "      <td>779</td>\n",
              "      <td>916</td>\n",
              "      <td>1.460449e+06</td>\n",
              "    </tr>\n",
              "    <tr>\n",
              "      <th>4</th>\n",
              "      <td>901</td>\n",
              "      <td>18</td>\n",
              "      <td>4.325726e+04</td>\n",
              "    </tr>\n",
              "    <tr>\n",
              "      <th>5</th>\n",
              "      <td>545</td>\n",
              "      <td>637</td>\n",
              "      <td>7.124634e+05</td>\n",
              "    </tr>\n",
              "    <tr>\n",
              "      <th>6</th>\n",
              "      <td>660</td>\n",
              "      <td>519</td>\n",
              "      <td>7.006960e+05</td>\n",
              "    </tr>\n",
              "    <tr>\n",
              "      <th>7</th>\n",
              "      <td>143</td>\n",
              "      <td>869</td>\n",
              "      <td>2.718260e+05</td>\n",
              "    </tr>\n",
              "    <tr>\n",
              "      <th>8</th>\n",
              "      <td>89</td>\n",
              "      <td>461</td>\n",
              "      <td>8.919803e+04</td>\n",
              "    </tr>\n",
              "    <tr>\n",
              "      <th>9</th>\n",
              "      <td>294</td>\n",
              "      <td>776</td>\n",
              "      <td>4.770210e+05</td>\n",
              "    </tr>\n",
              "    <tr>\n",
              "      <th>10</th>\n",
              "      <td>991</td>\n",
              "      <td>117</td>\n",
              "      <td>2.441771e+05</td>\n",
              "    </tr>\n",
              "    <tr>\n",
              "      <th>11</th>\n",
              "      <td>307</td>\n",
              "      <td>781</td>\n",
              "      <td>5.006455e+05</td>\n",
              "    </tr>\n",
              "    <tr>\n",
              "      <th>12</th>\n",
              "      <td>206</td>\n",
              "      <td>70</td>\n",
              "      <td>3.145200e+04</td>\n",
              "    </tr>\n",
              "    <tr>\n",
              "      <th>13</th>\n",
              "      <td>437</td>\n",
              "      <td>599</td>\n",
              "      <td>5.390215e+05</td>\n",
              "    </tr>\n",
              "    <tr>\n",
              "      <th>14</th>\n",
              "      <td>566</td>\n",
              "      <td>75</td>\n",
              "      <td>9.185271e+04</td>\n",
              "    </tr>\n",
              "  </tbody>\n",
              "</table>\n",
              "</div>\n",
              "      <button class=\"colab-df-convert\" onclick=\"convertToInteractive('df-89ceda8e-b3f7-460c-b0af-f47915c77ee5')\"\n",
              "              title=\"Convert this dataframe to an interactive table.\"\n",
              "              style=\"display:none;\">\n",
              "        \n",
              "  <svg xmlns=\"http://www.w3.org/2000/svg\" height=\"24px\"viewBox=\"0 0 24 24\"\n",
              "       width=\"24px\">\n",
              "    <path d=\"M0 0h24v24H0V0z\" fill=\"none\"/>\n",
              "    <path d=\"M18.56 5.44l.94 2.06.94-2.06 2.06-.94-2.06-.94-.94-2.06-.94 2.06-2.06.94zm-11 1L8.5 8.5l.94-2.06 2.06-.94-2.06-.94L8.5 2.5l-.94 2.06-2.06.94zm10 10l.94 2.06.94-2.06 2.06-.94-2.06-.94-.94-2.06-.94 2.06-2.06.94z\"/><path d=\"M17.41 7.96l-1.37-1.37c-.4-.4-.92-.59-1.43-.59-.52 0-1.04.2-1.43.59L10.3 9.45l-7.72 7.72c-.78.78-.78 2.05 0 2.83L4 21.41c.39.39.9.59 1.41.59.51 0 1.02-.2 1.41-.59l7.78-7.78 2.81-2.81c.8-.78.8-2.07 0-2.86zM5.41 20L4 18.59l7.72-7.72 1.47 1.35L5.41 20z\"/>\n",
              "  </svg>\n",
              "      </button>\n",
              "      \n",
              "  <style>\n",
              "    .colab-df-container {\n",
              "      display:flex;\n",
              "      flex-wrap:wrap;\n",
              "      gap: 12px;\n",
              "    }\n",
              "\n",
              "    .colab-df-convert {\n",
              "      background-color: #E8F0FE;\n",
              "      border: none;\n",
              "      border-radius: 50%;\n",
              "      cursor: pointer;\n",
              "      display: none;\n",
              "      fill: #1967D2;\n",
              "      height: 32px;\n",
              "      padding: 0 0 0 0;\n",
              "      width: 32px;\n",
              "    }\n",
              "\n",
              "    .colab-df-convert:hover {\n",
              "      background-color: #E2EBFA;\n",
              "      box-shadow: 0px 1px 2px rgba(60, 64, 67, 0.3), 0px 1px 3px 1px rgba(60, 64, 67, 0.15);\n",
              "      fill: #174EA6;\n",
              "    }\n",
              "\n",
              "    [theme=dark] .colab-df-convert {\n",
              "      background-color: #3B4455;\n",
              "      fill: #D2E3FC;\n",
              "    }\n",
              "\n",
              "    [theme=dark] .colab-df-convert:hover {\n",
              "      background-color: #434B5C;\n",
              "      box-shadow: 0px 1px 3px 1px rgba(0, 0, 0, 0.15);\n",
              "      filter: drop-shadow(0px 1px 2px rgba(0, 0, 0, 0.3));\n",
              "      fill: #FFFFFF;\n",
              "    }\n",
              "  </style>\n",
              "\n",
              "      <script>\n",
              "        const buttonEl =\n",
              "          document.querySelector('#df-89ceda8e-b3f7-460c-b0af-f47915c77ee5 button.colab-df-convert');\n",
              "        buttonEl.style.display =\n",
              "          google.colab.kernel.accessAllowed ? 'block' : 'none';\n",
              "\n",
              "        async function convertToInteractive(key) {\n",
              "          const element = document.querySelector('#df-89ceda8e-b3f7-460c-b0af-f47915c77ee5');\n",
              "          const dataTable =\n",
              "            await google.colab.kernel.invokeFunction('convertToInteractive',\n",
              "                                                     [key], {});\n",
              "          if (!dataTable) return;\n",
              "\n",
              "          const docLinkHtml = 'Like what you see? Visit the ' +\n",
              "            '<a target=\"_blank\" href=https://colab.research.google.com/notebooks/data_table.ipynb>data table notebook</a>'\n",
              "            + ' to learn more about interactive tables.';\n",
              "          element.innerHTML = '';\n",
              "          dataTable['output_type'] = 'display_data';\n",
              "          await google.colab.output.renderOutput(dataTable, element);\n",
              "          const docLink = document.createElement('div');\n",
              "          docLink.innerHTML = docLinkHtml;\n",
              "          element.appendChild(docLink);\n",
              "        }\n",
              "      </script>\n",
              "    </div>\n",
              "  </div>\n",
              "  "
            ]
          },
          "metadata": {},
          "execution_count": 3
        }
      ]
    },
    {
      "cell_type": "code",
      "source": [
        "# Display a summary of the table information (number of datapoints, etc.)\n",
        "\n",
        "df.info()"
      ],
      "metadata": {
        "colab": {
          "base_uri": "https://localhost:8080/"
        },
        "id": "N0KV3kAFyHEh",
        "outputId": "e39ff37f-2e99-423f-b4c7-dda894d80899"
      },
      "execution_count": null,
      "outputs": [
        {
          "output_type": "stream",
          "name": "stdout",
          "text": [
            "<class 'pandas.core.frame.DataFrame'>\n",
            "RangeIndex: 1000 entries, 0 to 999\n",
            "Data columns (total 3 columns):\n",
            " #   Column          Non-Null Count  Dtype  \n",
            "---  ------          --------------  -----  \n",
            " 0   Temperature °C  1000 non-null   int64  \n",
            " 1   Mols KCL        1000 non-null   int64  \n",
            " 2   Size nm^3       1000 non-null   float64\n",
            "dtypes: float64(1), int64(2)\n",
            "memory usage: 23.6 KB\n"
          ]
        }
      ]
    },
    {
      "cell_type": "code",
      "source": [
        "#Here I get some statistical information. \n",
        "df.describe()"
      ],
      "metadata": {
        "colab": {
          "base_uri": "https://localhost:8080/",
          "height": 300
        },
        "id": "PYlWGVm8y7O3",
        "outputId": "31579775-8a50-40f9-c1df-a81327ddd890"
      },
      "execution_count": null,
      "outputs": [
        {
          "output_type": "execute_result",
          "data": {
            "text/plain": [
              "       Temperature °C     Mols KCL     Size nm^3\n",
              "count     1000.000000  1000.000000  1.000000e+03\n",
              "mean       500.500000   471.530000  5.086111e+05\n",
              "std        288.819436   288.482872  4.474838e+05\n",
              "min          1.000000     1.000000  1.611429e+01\n",
              "25%        250.750000   226.750000  1.298267e+05\n",
              "50%        500.500000   459.500000  3.827182e+05\n",
              "75%        750.250000   710.250000  7.603211e+05\n",
              "max       1000.000000  1000.000000  1.972127e+06"
            ],
            "text/html": [
              "\n",
              "  <div id=\"df-3fee7dc3-ad87-4512-8e5c-93d8cff0b837\">\n",
              "    <div class=\"colab-df-container\">\n",
              "      <div>\n",
              "<style scoped>\n",
              "    .dataframe tbody tr th:only-of-type {\n",
              "        vertical-align: middle;\n",
              "    }\n",
              "\n",
              "    .dataframe tbody tr th {\n",
              "        vertical-align: top;\n",
              "    }\n",
              "\n",
              "    .dataframe thead th {\n",
              "        text-align: right;\n",
              "    }\n",
              "</style>\n",
              "<table border=\"1\" class=\"dataframe\">\n",
              "  <thead>\n",
              "    <tr style=\"text-align: right;\">\n",
              "      <th></th>\n",
              "      <th>Temperature °C</th>\n",
              "      <th>Mols KCL</th>\n",
              "      <th>Size nm^3</th>\n",
              "    </tr>\n",
              "  </thead>\n",
              "  <tbody>\n",
              "    <tr>\n",
              "      <th>count</th>\n",
              "      <td>1000.000000</td>\n",
              "      <td>1000.000000</td>\n",
              "      <td>1.000000e+03</td>\n",
              "    </tr>\n",
              "    <tr>\n",
              "      <th>mean</th>\n",
              "      <td>500.500000</td>\n",
              "      <td>471.530000</td>\n",
              "      <td>5.086111e+05</td>\n",
              "    </tr>\n",
              "    <tr>\n",
              "      <th>std</th>\n",
              "      <td>288.819436</td>\n",
              "      <td>288.482872</td>\n",
              "      <td>4.474838e+05</td>\n",
              "    </tr>\n",
              "    <tr>\n",
              "      <th>min</th>\n",
              "      <td>1.000000</td>\n",
              "      <td>1.000000</td>\n",
              "      <td>1.611429e+01</td>\n",
              "    </tr>\n",
              "    <tr>\n",
              "      <th>25%</th>\n",
              "      <td>250.750000</td>\n",
              "      <td>226.750000</td>\n",
              "      <td>1.298267e+05</td>\n",
              "    </tr>\n",
              "    <tr>\n",
              "      <th>50%</th>\n",
              "      <td>500.500000</td>\n",
              "      <td>459.500000</td>\n",
              "      <td>3.827182e+05</td>\n",
              "    </tr>\n",
              "    <tr>\n",
              "      <th>75%</th>\n",
              "      <td>750.250000</td>\n",
              "      <td>710.250000</td>\n",
              "      <td>7.603211e+05</td>\n",
              "    </tr>\n",
              "    <tr>\n",
              "      <th>max</th>\n",
              "      <td>1000.000000</td>\n",
              "      <td>1000.000000</td>\n",
              "      <td>1.972127e+06</td>\n",
              "    </tr>\n",
              "  </tbody>\n",
              "</table>\n",
              "</div>\n",
              "      <button class=\"colab-df-convert\" onclick=\"convertToInteractive('df-3fee7dc3-ad87-4512-8e5c-93d8cff0b837')\"\n",
              "              title=\"Convert this dataframe to an interactive table.\"\n",
              "              style=\"display:none;\">\n",
              "        \n",
              "  <svg xmlns=\"http://www.w3.org/2000/svg\" height=\"24px\"viewBox=\"0 0 24 24\"\n",
              "       width=\"24px\">\n",
              "    <path d=\"M0 0h24v24H0V0z\" fill=\"none\"/>\n",
              "    <path d=\"M18.56 5.44l.94 2.06.94-2.06 2.06-.94-2.06-.94-.94-2.06-.94 2.06-2.06.94zm-11 1L8.5 8.5l.94-2.06 2.06-.94-2.06-.94L8.5 2.5l-.94 2.06-2.06.94zm10 10l.94 2.06.94-2.06 2.06-.94-2.06-.94-.94-2.06-.94 2.06-2.06.94z\"/><path d=\"M17.41 7.96l-1.37-1.37c-.4-.4-.92-.59-1.43-.59-.52 0-1.04.2-1.43.59L10.3 9.45l-7.72 7.72c-.78.78-.78 2.05 0 2.83L4 21.41c.39.39.9.59 1.41.59.51 0 1.02-.2 1.41-.59l7.78-7.78 2.81-2.81c.8-.78.8-2.07 0-2.86zM5.41 20L4 18.59l7.72-7.72 1.47 1.35L5.41 20z\"/>\n",
              "  </svg>\n",
              "      </button>\n",
              "      \n",
              "  <style>\n",
              "    .colab-df-container {\n",
              "      display:flex;\n",
              "      flex-wrap:wrap;\n",
              "      gap: 12px;\n",
              "    }\n",
              "\n",
              "    .colab-df-convert {\n",
              "      background-color: #E8F0FE;\n",
              "      border: none;\n",
              "      border-radius: 50%;\n",
              "      cursor: pointer;\n",
              "      display: none;\n",
              "      fill: #1967D2;\n",
              "      height: 32px;\n",
              "      padding: 0 0 0 0;\n",
              "      width: 32px;\n",
              "    }\n",
              "\n",
              "    .colab-df-convert:hover {\n",
              "      background-color: #E2EBFA;\n",
              "      box-shadow: 0px 1px 2px rgba(60, 64, 67, 0.3), 0px 1px 3px 1px rgba(60, 64, 67, 0.15);\n",
              "      fill: #174EA6;\n",
              "    }\n",
              "\n",
              "    [theme=dark] .colab-df-convert {\n",
              "      background-color: #3B4455;\n",
              "      fill: #D2E3FC;\n",
              "    }\n",
              "\n",
              "    [theme=dark] .colab-df-convert:hover {\n",
              "      background-color: #434B5C;\n",
              "      box-shadow: 0px 1px 3px 1px rgba(0, 0, 0, 0.15);\n",
              "      filter: drop-shadow(0px 1px 2px rgba(0, 0, 0, 0.3));\n",
              "      fill: #FFFFFF;\n",
              "    }\n",
              "  </style>\n",
              "\n",
              "      <script>\n",
              "        const buttonEl =\n",
              "          document.querySelector('#df-3fee7dc3-ad87-4512-8e5c-93d8cff0b837 button.colab-df-convert');\n",
              "        buttonEl.style.display =\n",
              "          google.colab.kernel.accessAllowed ? 'block' : 'none';\n",
              "\n",
              "        async function convertToInteractive(key) {\n",
              "          const element = document.querySelector('#df-3fee7dc3-ad87-4512-8e5c-93d8cff0b837');\n",
              "          const dataTable =\n",
              "            await google.colab.kernel.invokeFunction('convertToInteractive',\n",
              "                                                     [key], {});\n",
              "          if (!dataTable) return;\n",
              "\n",
              "          const docLinkHtml = 'Like what you see? Visit the ' +\n",
              "            '<a target=\"_blank\" href=https://colab.research.google.com/notebooks/data_table.ipynb>data table notebook</a>'\n",
              "            + ' to learn more about interactive tables.';\n",
              "          element.innerHTML = '';\n",
              "          dataTable['output_type'] = 'display_data';\n",
              "          await google.colab.output.renderOutput(dataTable, element);\n",
              "          const docLink = document.createElement('div');\n",
              "          docLink.innerHTML = docLinkHtml;\n",
              "          element.appendChild(docLink);\n",
              "        }\n",
              "      </script>\n",
              "    </div>\n",
              "  </div>\n",
              "  "
            ]
          },
          "metadata": {},
          "execution_count": 5
        }
      ]
    },
    {
      "cell_type": "markdown",
      "metadata": {
        "id": "AWX7pF3Cvvf6"
      },
      "source": [
        "## Part 2. Splitting the dataset"
      ]
    },
    {
      "cell_type": "markdown",
      "source": [
        "In the experiment, the first two features KCL and temperatures are independent variables and size of slime is the dependent variable."
      ],
      "metadata": {
        "id": "nd0TOOTFcxNr"
      }
    },
    {
      "cell_type": "code",
      "source": [
        "### Take the pandas dataset and split it into our features (X) and label (y)\n",
        "\n",
        "#  the following will select the first two columns except the last column\n",
        "X = df.iloc[:, :-1].values\n",
        "\n",
        "\n",
        "# here we are selecting the last column which is our dependent feature.\n",
        "y = df.iloc[:,-1].values"
      ],
      "metadata": {
        "id": "IIJHNWqHboES"
      },
      "execution_count": null,
      "outputs": []
    },
    {
      "cell_type": "code",
      "source": [
        ""
      ],
      "metadata": {
        "id": "zK5uouGPY2gr"
      },
      "execution_count": null,
      "outputs": []
    },
    {
      "cell_type": "code",
      "source": [
        "X"
      ],
      "metadata": {
        "colab": {
          "base_uri": "https://localhost:8080/"
        },
        "id": "k-ypjaupeuf8",
        "outputId": "263dfa6d-4b0b-4fdd-9c39-47e000e98143"
      },
      "execution_count": null,
      "outputs": [
        {
          "output_type": "execute_result",
          "data": {
            "text/plain": [
              "array([[469, 647],\n",
              "       [403, 694],\n",
              "       [302, 975],\n",
              "       ...,\n",
              "       [791, 213],\n",
              "       [769, 553],\n",
              "       [919, 452]])"
            ]
          },
          "metadata": {},
          "execution_count": 27
        }
      ]
    },
    {
      "cell_type": "code",
      "source": [
        "y"
      ],
      "metadata": {
        "colab": {
          "base_uri": "https://localhost:8080/"
        },
        "id": "C7-6Zrf9ewu-",
        "outputId": "b87b7ee3-2daa-43d0-b595-3643f7cb14ec"
      },
      "execution_count": null,
      "outputs": [
        {
          "output_type": "execute_result",
          "data": {
            "text/plain": [
              "array([6.24474257e+05, 5.77961029e+05, 6.19684714e+05, 1.46044903e+06,\n",
              "       4.32572571e+04, 7.12463400e+05, 7.00696029e+05, 2.71826029e+05,\n",
              "       8.91980286e+04, 4.77021029e+05, 2.44177114e+05, 5.00645457e+05,\n",
              "       3.14520000e+04, 5.39021457e+05, 9.18527143e+04, 3.95288286e+04,\n",
              "       5.38421457e+05, 1.14843143e+04, 1.48585029e+05, 4.16308457e+05,\n",
              "       1.31596457e+05, 4.82433257e+05, 1.16136540e+06, 1.36031143e+04,\n",
              "       4.24489114e+05, 1.97787143e+04, 8.03035857e+05, 3.21295000e+05,\n",
              "       6.95233029e+05, 2.23961400e+05, 1.10432926e+06, 1.92627283e+06,\n",
              "       5.21373600e+05, 7.91715314e+05, 4.53954314e+05, 5.11930286e+04,\n",
              "       5.94753143e+04, 4.40629714e+05, 4.60782857e+05, 7.88616000e+04,\n",
              "       8.03208600e+05, 2.28364457e+05, 2.41597829e+05, 1.04578046e+06,\n",
              "       6.59932571e+04, 6.18540286e+04, 3.97636457e+05, 4.93009714e+05,\n",
              "       1.18457029e+05, 2.42666829e+05, 1.26718971e+06, 1.28496257e+05,\n",
              "       6.10293600e+05, 5.76091143e+04, 9.13729029e+05, 1.41796260e+06,\n",
              "       5.31800286e+04, 4.93764571e+04, 6.40081029e+05, 9.38430829e+05,\n",
              "       5.05611429e+03, 7.31992257e+05, 3.75462571e+04, 9.73751114e+05,\n",
              "       3.45933257e+05, 8.23036114e+05, 3.42182029e+05, 7.12977114e+05,\n",
              "       3.78131314e+05, 1.94912829e+05, 6.80136829e+05, 1.09724626e+06,\n",
              "       3.43392114e+05, 8.08596257e+05, 5.49034029e+05, 2.57202029e+05,\n",
              "       2.56621829e+05, 4.01612429e+05, 9.09842571e+04, 6.54135429e+05,\n",
              "       3.68860286e+04, 4.30492314e+05, 1.73630100e+06, 2.71050400e+05,\n",
              "       7.81566429e+05, 4.76349257e+05, 1.13658643e+06, 6.09377143e+04,\n",
              "       8.68430829e+05, 5.37425257e+05, 2.24347114e+05, 2.25829029e+05,\n",
              "       2.64800029e+05, 1.44585886e+06, 3.05201829e+05, 1.01626314e+05,\n",
              "       8.28351143e+04, 6.35764571e+04, 5.89426857e+05, 2.63448114e+05,\n",
              "       6.09299314e+05, 3.30255457e+05, 5.05469257e+05, 3.35937857e+05,\n",
              "       1.47318743e+06, 2.39418314e+05, 4.04337143e+04, 1.04920946e+06,\n",
              "       2.82796457e+05, 1.61116457e+05, 5.48252571e+04, 3.38068257e+05,\n",
              "       2.74972029e+05, 9.57954571e+04, 1.67575457e+05, 1.25448286e+04,\n",
              "       4.56082714e+05, 3.75531400e+05, 3.76202257e+05, 4.32728286e+04,\n",
              "       6.67142857e+01, 2.99089029e+05, 7.42452257e+05, 2.88919429e+05,\n",
              "       1.43040286e+04, 1.15681143e+04, 1.24286460e+06, 1.22953257e+05,\n",
              "       1.80517600e+05, 6.73711143e+04, 1.54241114e+05, 1.24615340e+06,\n",
              "       1.12075783e+06, 1.22228571e+06, 1.15344643e+06, 5.65980000e+05,\n",
              "       3.58129714e+05, 1.54538846e+06, 1.30044314e+05, 1.16391429e+05,\n",
              "       3.55520829e+05, 7.18007429e+05, 2.60663143e+04, 6.78212571e+04,\n",
              "       3.57346029e+05, 6.34284314e+05, 8.47613829e+05, 1.93129257e+05,\n",
              "       4.10314286e+02, 9.88129457e+05, 8.94889029e+05, 2.22812571e+04,\n",
              "       3.62578714e+05, 5.55003429e+05, 1.47449711e+06, 2.40202314e+05,\n",
              "       9.79992257e+05, 3.45304286e+04, 3.28049029e+05, 1.17746071e+06,\n",
              "       1.94852457e+05, 9.10304829e+05, 5.47971429e+05, 5.07560114e+05,\n",
              "       1.00447483e+06, 2.40833829e+05, 1.09235683e+06, 1.00324029e+05,\n",
              "       1.27662571e+04, 5.45187114e+05, 2.71120286e+04, 1.74754600e+05,\n",
              "       9.25585714e+03, 1.30503111e+06, 3.30257143e+02, 3.83617029e+05,\n",
              "       2.20722829e+05, 3.09564029e+05, 7.23400314e+05, 6.13645600e+05,\n",
              "       6.30814029e+05, 1.49946257e+05, 1.21228429e+05, 7.04410857e+05,\n",
              "       5.56872257e+05, 1.73457143e+02, 6.77849714e+05, 8.08565257e+05,\n",
              "       6.25307314e+05, 5.55545000e+05, 1.07782503e+06, 5.02017029e+05,\n",
              "       4.95720000e+05, 8.05821400e+05, 3.39907314e+05, 1.53670731e+06,\n",
              "       1.30304111e+06, 9.56940000e+03, 9.72528114e+05, 1.90276457e+05,\n",
              "       5.83889114e+05, 3.79513029e+05, 8.51571314e+05, 6.08830829e+05,\n",
              "       2.29690286e+04, 3.21042571e+04, 1.92604571e+04, 8.71485457e+05,\n",
              "       8.62471114e+05, 4.03842857e+05, 3.04432457e+05, 9.62502571e+04,\n",
              "       7.18649400e+05, 1.04813600e+06, 7.30240029e+05, 1.33772103e+06,\n",
              "       7.48713857e+05, 9.23171143e+04, 1.89236829e+05, 1.49315314e+05,\n",
              "       8.69366857e+05, 1.18924114e+05, 6.54204286e+04, 4.70630400e+05,\n",
              "       2.08777714e+05, 1.22337111e+06, 6.68045714e+03, 5.37114286e+02,\n",
              "       9.77468829e+05, 6.65511429e+03, 6.89003143e+04, 1.07378403e+06,\n",
              "       1.88056114e+05, 5.17377029e+05, 1.81699114e+05, 1.23172829e+05,\n",
              "       7.58932714e+05, 1.93085257e+05, 1.05400000e+02, 4.80147143e+04,\n",
              "       7.15664114e+05, 3.01391143e+04, 1.69837714e+05, 2.37080114e+05,\n",
              "       5.34515457e+05, 5.01712600e+05, 1.61846203e+06, 3.35550429e+05,\n",
              "       2.84966314e+05, 2.70368000e+05, 6.71115429e+05, 2.63859857e+05,\n",
              "       3.00269829e+05, 6.81058286e+04, 3.16188000e+05, 9.35724286e+04,\n",
              "       5.05027400e+05, 1.06647531e+06, 1.50911211e+06, 8.59933857e+05,\n",
              "       1.04123114e+05, 1.24219443e+06, 1.19094846e+06, 9.58763457e+05,\n",
              "       1.10457257e+05, 3.45400714e+05, 5.62824114e+05, 1.48947143e+04,\n",
              "       1.62132686e+06, 7.00322857e+05, 3.35545000e+05, 9.97619314e+05,\n",
              "       1.38734700e+06, 1.36744026e+06, 1.08651231e+06, 1.10411426e+06,\n",
              "       1.03501829e+05, 1.01254603e+06, 3.16844114e+05, 6.00671143e+04,\n",
              "       7.11794571e+04, 6.52805829e+05, 9.24024000e+04, 8.80350429e+05,\n",
              "       2.49043114e+05, 2.84117829e+05, 4.58031857e+05, 1.49123371e+06,\n",
              "       1.06489783e+06, 7.32261029e+05, 6.18911429e+03, 1.71064257e+05,\n",
              "       6.51534571e+04, 1.81536343e+06, 1.38011383e+06, 1.93788286e+04,\n",
              "       9.71624114e+05, 1.60322146e+06, 1.57789131e+06, 4.08676457e+05,\n",
              "       3.90116257e+05, 1.07916029e+05, 2.68258286e+04, 9.16383143e+04,\n",
              "       1.66440286e+04, 1.03615326e+06, 5.21542571e+04, 3.03944714e+05,\n",
              "       2.46084286e+04, 1.06949040e+06, 2.29204029e+05, 1.88886446e+06,\n",
              "       9.65613829e+05, 4.12822257e+05, 5.09602857e+03, 8.46169714e+05,\n",
              "       8.21327143e+04, 2.06993829e+05, 1.50487143e+04, 1.48665911e+06,\n",
              "       5.06370429e+05, 3.19123400e+05, 1.23143271e+06, 2.94994429e+05,\n",
              "       1.11379646e+06, 1.26995511e+06, 5.10753257e+05, 6.39442429e+05,\n",
              "       2.24846314e+05, 1.30380711e+06, 7.24028571e+02, 1.00190826e+06,\n",
              "       2.33313257e+05, 1.34438400e+05, 1.17146846e+06, 2.11805600e+05,\n",
              "       9.54588457e+05, 8.14731429e+03, 4.17030029e+05, 3.50058714e+05,\n",
              "       4.99507457e+05, 7.13457257e+05, 1.27002857e+03, 8.54450286e+04,\n",
              "       1.46566411e+06, 1.74367326e+06, 3.50800114e+05, 1.11477871e+06,\n",
              "       2.20367314e+05, 7.34313257e+05, 1.10090883e+06, 1.93753029e+05,\n",
              "       1.33336029e+05, 1.24416829e+05, 6.14610429e+05, 6.58197829e+05,\n",
              "       9.77113714e+05, 8.04764571e+04, 1.01789931e+06, 1.77320331e+06,\n",
              "       2.64662829e+05, 2.50464114e+05, 6.23115314e+05, 4.92524600e+05,\n",
              "       5.47488114e+05, 1.37049829e+05, 1.34657371e+06, 3.11881257e+05,\n",
              "       5.44500029e+05, 3.79737400e+05, 3.89294314e+05, 1.44061911e+06,\n",
              "       2.16979114e+05, 2.87068457e+05, 4.39602400e+05, 1.88438257e+05,\n",
              "       1.29384686e+06, 4.68467143e+04, 1.86544286e+04, 1.04375031e+06,\n",
              "       4.12283314e+05, 9.38629029e+05, 1.24874203e+06, 2.40674400e+05,\n",
              "       2.51269829e+05, 1.86264314e+05, 3.74084457e+05, 5.94954286e+04,\n",
              "       6.72129029e+05, 6.31226400e+05, 1.60506429e+05, 9.85604457e+05,\n",
              "       8.41912114e+05, 2.56361143e+04, 3.22402857e+03, 1.53178286e+04,\n",
              "       5.45382571e+04, 1.90750029e+05, 1.92241143e+04, 1.07111429e+03,\n",
              "       3.54956457e+05, 3.82561143e+04, 8.20856114e+05, 6.33191143e+04,\n",
              "       5.02194857e+05, 1.03650411e+06, 2.68353714e+05, 2.39246314e+05,\n",
              "       1.88480103e+06, 1.99914571e+04, 6.16366857e+05, 9.53685000e+05,\n",
              "       9.34857257e+05, 9.97425714e+03, 5.41882857e+03, 2.78414571e+04,\n",
              "       1.18851786e+06, 2.78072257e+05, 3.98301257e+05, 1.79065714e+05,\n",
              "       9.66728286e+04, 6.16659457e+05, 8.15536829e+05, 1.25717211e+06,\n",
              "       4.11841143e+04, 1.20913260e+06, 1.26525586e+06, 1.75371114e+05,\n",
              "       1.07004960e+06, 5.47625257e+05, 7.38529714e+05, 6.79977257e+05,\n",
              "       7.78384314e+05, 4.26940257e+05, 7.78494571e+04, 4.41286600e+05,\n",
              "       6.30519857e+05, 4.98928286e+04, 4.74588257e+05, 3.19070314e+05,\n",
              "       5.78913857e+05, 7.48334571e+04, 3.21153829e+05, 2.41161257e+05,\n",
              "       8.91177257e+05, 1.86374083e+06, 4.08340286e+04, 8.97683457e+05,\n",
              "       1.19554571e+04, 2.43062571e+04, 4.42691143e+04, 1.46083211e+06,\n",
              "       8.91164571e+04, 6.16478829e+05, 4.86652457e+05, 8.74551143e+04,\n",
              "       7.56182314e+05, 3.16833400e+05, 2.54504257e+05, 7.78041257e+05,\n",
              "       2.95560286e+04, 1.57454111e+06, 4.93706829e+05, 2.86745714e+05,\n",
              "       6.11333829e+05, 4.00778286e+04, 5.86383429e+05, 3.99510257e+05,\n",
              "       5.78882857e+05, 1.52406083e+06, 1.28284457e+05, 5.17540000e+03,\n",
              "       4.57410857e+05, 2.08988457e+05, 6.98809714e+05, 4.77348457e+05,\n",
              "       1.24421346e+06, 2.39585714e+05, 1.48562314e+05, 6.76430029e+05,\n",
              "       8.49300286e+04, 5.73634286e+04, 2.16833457e+05, 3.17104114e+05,\n",
              "       9.05448286e+04, 1.78553203e+06, 7.35845400e+05, 5.83062571e+04,\n",
              "       3.43372714e+05, 1.17433029e+05, 5.85545714e+03, 5.23650400e+05,\n",
              "       4.16356029e+05, 1.30851000e+05, 8.19084571e+04, 4.76394429e+05,\n",
              "       8.11164600e+05, 7.73750257e+05, 1.74310731e+06, 6.22649829e+05,\n",
              "       6.27708571e+04, 7.89596314e+05, 3.81819429e+05, 9.02261457e+05,\n",
              "       1.14387431e+06, 8.41457143e+02, 3.26921143e+04, 3.19655314e+05,\n",
              "       5.58759857e+05, 8.70682857e+03, 1.71829829e+05, 2.75385857e+05,\n",
              "       7.28266029e+05, 2.85719400e+05, 9.14373114e+05, 3.28200257e+05,\n",
              "       2.82812314e+05, 1.09042026e+06, 1.55745703e+06, 1.30431429e+05,\n",
              "       1.77937829e+05, 1.17762314e+05, 4.99694829e+05, 7.03160114e+05,\n",
              "       5.62423143e+04, 2.21392829e+05, 7.56696114e+05, 6.87856114e+05,\n",
              "       2.89045257e+05, 7.00945714e+03, 1.46307671e+06, 9.01128114e+05,\n",
              "       6.03438857e+05, 1.59128829e+05, 8.07512429e+05, 1.04956829e+05,\n",
              "       1.60969257e+05, 9.85393143e+04, 4.52397600e+05, 1.47562483e+06,\n",
              "       4.08860829e+05, 1.12012571e+04, 2.45060457e+05, 3.11877257e+05,\n",
              "       8.59434857e+05, 9.66332571e+04, 3.81268714e+05, 5.77806829e+05,\n",
              "       3.19512429e+05, 7.61464000e+04, 1.54600946e+06, 1.13411211e+06,\n",
              "       8.78646257e+05, 4.55071143e+04, 2.91141829e+05, 3.96298257e+05,\n",
              "       3.60812829e+05, 1.49261146e+06, 1.56419646e+06, 1.10481531e+06,\n",
              "       5.29153029e+05, 9.07841143e+04, 8.10049600e+05, 8.59049114e+05,\n",
              "       4.33394571e+04, 2.67914286e+04, 1.76954503e+06, 2.93546829e+05,\n",
              "       4.89186257e+05, 1.38054686e+06, 3.05002257e+05, 8.14090286e+04,\n",
              "       7.91088286e+04, 1.56607543e+06, 2.32641143e+04, 7.24974257e+05,\n",
              "       7.50482857e+03, 7.39732314e+05, 1.48395457e+05, 1.12557114e+05,\n",
              "       4.70399314e+05, 1.61142857e+01, 8.63716029e+05, 4.71719400e+05,\n",
              "       4.52268000e+05, 2.52115457e+05, 1.74842829e+05, 1.15613257e+05,\n",
              "       4.62369857e+05, 8.23033029e+05, 4.94674314e+05, 1.09212031e+06,\n",
              "       5.81400286e+04, 6.25714857e+05, 8.29200314e+05, 4.17231429e+03,\n",
              "       4.22777829e+05, 3.38140000e+05, 6.74171314e+05, 2.44549600e+05,\n",
              "       3.63689257e+05, 3.60768257e+05, 1.14416314e+05, 4.29082857e+03,\n",
              "       1.40512903e+06, 2.40577143e+04, 7.38660286e+04, 4.82883143e+04,\n",
              "       9.02100600e+05, 9.31366829e+05, 6.93393029e+05, 2.89780114e+05,\n",
              "       1.60854571e+04, 1.20599246e+06, 1.97212740e+06, 2.92210029e+05,\n",
              "       1.27749383e+06, 5.25291429e+05, 3.95666857e+05, 8.91769114e+05,\n",
              "       1.05033326e+06, 3.60092314e+05, 4.54566429e+05, 2.95489114e+05,\n",
              "       7.07185714e+05, 3.86430429e+05, 2.22299400e+05, 1.28727260e+06,\n",
              "       4.68321143e+04, 2.65273457e+05, 1.99823400e+05, 4.58609457e+05,\n",
              "       7.27744114e+05, 1.08556003e+06, 2.59291143e+04, 7.50920286e+04,\n",
              "       8.23168314e+05, 1.04120286e+04, 2.49956600e+05, 8.15497257e+05,\n",
              "       3.42303143e+04, 1.42908286e+04, 1.02334711e+06, 1.34640286e+04,\n",
              "       6.80894257e+05, 3.37428429e+05, 5.75879314e+05, 1.79771043e+06,\n",
              "       7.07601457e+05, 2.83583143e+04, 1.53731314e+05, 1.08112411e+06,\n",
              "       1.02109714e+05, 7.04621829e+05, 1.60466857e+05, 3.66960286e+04,\n",
              "       9.32680286e+04, 1.08429600e+05, 9.99582257e+05, 1.20136029e+05,\n",
              "       1.71603946e+06, 7.63557000e+05, 1.02252331e+06, 7.86488286e+04,\n",
              "       5.40201257e+05, 4.17425400e+05, 2.21129114e+05, 7.90416000e+04,\n",
              "       1.42404926e+06, 4.95868457e+05, 6.16957257e+05, 4.72613829e+05,\n",
              "       3.55862571e+04, 1.25074640e+06, 1.61112600e+05, 2.44745457e+05,\n",
              "       1.61217257e+05, 1.57312114e+05, 1.15057114e+05, 2.77241143e+04,\n",
              "       2.64481029e+05, 1.29173829e+05, 7.36484029e+05, 6.46518314e+05,\n",
              "       9.98594029e+05, 1.36864443e+06, 1.19722029e+05, 4.92891314e+05,\n",
              "       6.02291457e+05, 6.24742429e+05, 7.36065029e+05, 5.54582857e+03,\n",
              "       3.34372457e+05, 3.08171143e+04, 1.10939546e+06, 7.19365600e+05,\n",
              "       4.05570857e+05, 1.27018346e+06, 3.65193400e+05, 8.38934829e+05,\n",
              "       5.29296257e+05, 4.92338400e+05, 4.07851114e+05, 8.26495000e+05,\n",
              "       8.11563143e+04, 6.36024000e+04, 9.68926000e+04, 3.76396457e+05,\n",
              "       2.34048286e+04, 2.03351143e+04, 1.11047457e+05, 7.85161029e+05,\n",
              "       6.82271314e+05, 2.31532457e+05, 3.13061829e+05, 1.15123486e+06,\n",
              "       1.03064314e+05, 2.81766400e+05, 6.82266857e+05, 1.30749886e+06,\n",
              "       3.54575114e+05, 6.21303429e+05, 7.21471314e+05, 2.49983143e+04,\n",
              "       1.71276926e+06, 1.86678314e+05, 7.51032257e+05, 1.12016714e+05,\n",
              "       4.56054429e+05, 8.37444286e+04, 7.95132257e+05, 7.59242400e+05,\n",
              "       1.03069003e+06, 5.82477829e+05, 2.71664029e+05, 1.38913714e+05,\n",
              "       6.64790600e+05, 8.68729257e+05, 1.79392114e+05, 2.00457257e+05,\n",
              "       1.08489300e+06, 5.56986600e+05, 3.08131143e+04, 1.71635803e+06,\n",
              "       1.40516460e+06, 1.37425783e+06, 8.24400600e+05, 1.15307900e+06,\n",
              "       8.27993257e+05, 1.03489114e+05, 4.49269457e+05, 1.53596811e+06,\n",
              "       1.31257029e+05, 3.77713029e+05, 2.07198857e+05, 1.02880114e+05,\n",
              "       4.21308286e+04, 4.69778400e+05, 2.86018857e+05, 1.17646257e+05,\n",
              "       3.59614029e+05, 2.17334314e+05, 1.19853829e+05, 2.10333600e+05,\n",
              "       7.67623429e+05, 2.45986714e+05, 1.81551457e+05, 1.07822443e+06,\n",
              "       1.43518183e+06, 2.29356000e+05, 2.40652029e+05, 1.55349257e+05,\n",
              "       1.79843143e+04, 3.78242857e+05, 1.97369714e+05, 5.84457029e+05,\n",
              "       8.84457600e+05, 3.44567429e+05, 7.42702029e+05, 1.10952031e+06,\n",
              "       9.25831429e+03, 3.19714029e+05, 1.01454160e+06, 2.37863314e+05,\n",
              "       9.92136600e+05, 2.51831429e+03, 2.91132000e+05, 1.23976740e+06,\n",
              "       1.43166160e+06, 1.66058286e+04, 7.23568114e+05, 7.37536114e+05,\n",
              "       8.62913143e+04, 1.05541457e+05, 1.94317829e+05, 3.48355314e+05,\n",
              "       1.15608846e+06, 2.36712114e+05, 1.39407457e+05, 1.39883700e+06,\n",
              "       6.71197457e+05, 4.99556314e+05, 8.18933600e+05, 3.62071143e+04,\n",
              "       8.86261457e+05, 6.85716457e+05, 9.47629114e+05, 1.66367443e+06,\n",
              "       5.40877829e+05, 4.48644314e+05, 7.43933829e+05, 2.43109457e+05,\n",
              "       9.40712114e+05, 3.92907457e+05, 6.34643314e+05, 6.40446429e+05,\n",
              "       3.09613114e+05, 7.58047114e+05, 1.65529726e+06, 1.41099457e+05,\n",
              "       4.55983857e+05, 6.50273143e+04, 7.49361029e+05, 4.31400600e+05,\n",
              "       3.27117457e+05, 9.20531314e+05, 4.78631429e+03, 2.61596714e+05,\n",
              "       9.84742571e+04, 3.34174571e+04, 8.64352114e+05, 2.90225714e+03,\n",
              "       1.85476314e+05, 3.62571429e+01, 8.66502857e+03, 2.32828571e+02,\n",
              "       6.98827114e+05, 8.73038314e+05, 3.91831429e+03, 3.81815314e+05,\n",
              "       1.01029114e+05, 1.65682571e+04, 1.02610903e+06, 1.53021457e+05,\n",
              "       5.77260314e+05, 2.20280000e+04, 6.16457029e+05, 3.96173829e+05,\n",
              "       6.03241257e+05, 9.84988286e+04, 1.07180386e+06, 4.91389457e+05,\n",
              "       4.55728829e+05, 1.22792686e+06, 2.36956114e+05, 2.69112457e+05,\n",
              "       2.31584257e+05, 6.03596829e+05, 2.38826857e+05, 2.87802714e+05,\n",
              "       6.00674857e+05, 9.44423143e+04, 1.35712114e+05, 3.05595400e+05,\n",
              "       2.19952457e+05, 4.35623000e+05, 3.37170857e+05, 1.85762571e+04,\n",
              "       3.25132829e+05, 7.94976829e+05, 3.13985257e+05, 1.42482857e+03,\n",
              "       3.51865257e+05, 6.51841029e+05, 3.26298571e+04, 5.60757457e+05,\n",
              "       8.38108314e+05, 3.09712257e+05, 1.27145029e+05, 1.59435511e+06,\n",
              "       5.18856029e+05, 2.98081029e+05, 4.96746257e+05, 4.10720600e+05,\n",
              "       1.66231457e+05, 9.42241457e+05, 1.01681643e+06, 4.54249257e+05,\n",
              "       5.58568457e+05, 5.97743114e+05, 1.33531429e+05, 6.72392829e+05,\n",
              "       1.03987314e+05, 5.36190829e+05, 1.51751143e+04, 4.63350714e+05,\n",
              "       2.13269829e+05, 1.64061746e+06, 1.64620029e+05, 5.49207314e+05,\n",
              "       4.76623457e+05, 5.54434600e+05, 1.07736803e+06, 8.18464114e+05,\n",
              "       3.18040000e+04, 6.70937114e+05, 5.13347114e+05, 5.20717457e+05,\n",
              "       3.68407143e+04, 2.26740429e+05, 6.72088457e+05, 2.15877600e+05,\n",
              "       5.37476829e+05, 4.13732829e+05, 7.58377114e+05, 1.07312314e+05,\n",
              "       1.43706126e+06, 3.58148457e+05, 1.60323531e+06, 3.46296114e+05,\n",
              "       1.06297831e+06, 8.96234571e+04, 6.16569857e+05, 3.87182257e+05,\n",
              "       4.80946400e+05, 9.76260286e+04, 8.28280000e+04, 4.73076600e+05,\n",
              "       9.54178829e+05, 6.61005000e+05, 1.14400011e+06, 6.12330286e+04,\n",
              "       9.29079314e+05, 1.03529243e+06, 5.02000000e+04, 1.70761660e+06,\n",
              "       2.16700286e+04, 7.74480114e+05, 3.55214714e+05, 7.38879429e+05,\n",
              "       2.51469829e+05, 2.53718829e+05, 5.21228571e+04, 2.30945714e+03,\n",
              "       4.22685029e+05, 2.00866257e+05, 3.47416457e+05, 1.50313257e+05,\n",
              "       1.72224626e+06, 1.65311429e+03, 4.81235314e+05, 1.37193257e+05,\n",
              "       4.26357257e+05, 1.32183143e+06, 6.74216000e+04, 7.26984429e+05,\n",
              "       8.26151143e+04, 1.04350560e+06, 1.48401400e+05, 4.32204571e+04,\n",
              "       3.31453714e+05, 4.73130286e+04, 1.77567400e+05, 1.16260029e+05,\n",
              "       1.24290600e+05, 2.35764114e+05, 1.21469714e+05, 1.05945026e+06,\n",
              "       2.63337829e+05, 9.81716600e+05, 2.78615429e+05, 3.17629857e+05,\n",
              "       4.59800314e+05, 1.28610714e+05, 1.14028114e+05, 1.05181543e+06,\n",
              "       6.32188314e+05, 2.40745257e+05, 9.56928114e+05, 5.98296114e+05,\n",
              "       1.64214429e+05, 1.42239803e+06, 1.96465029e+05, 7.39640829e+05,\n",
              "       1.27960046e+06, 1.96825714e+03, 7.97577257e+05, 4.15563429e+05,\n",
              "       4.46968286e+04, 1.30239429e+05, 9.08938286e+04, 1.33161386e+06,\n",
              "       4.87152257e+05, 1.70568429e+05, 3.47025714e+03, 1.54566140e+06,\n",
              "       6.73704114e+05, 3.47754257e+05, 8.68479400e+05, 8.47641257e+05])"
            ]
          },
          "metadata": {},
          "execution_count": 28
        }
      ]
    },
    {
      "cell_type": "code",
      "source": [
        "### Use sklearn to split the features and labels into a training/test set. (90% train, 10% test)\n",
        "X_train, X_test, y_train, y_test = train_test_split(X, y, test_size=0.10, random_state=0)\n",
        "print ('The Training Set: %d rows\\nTest Set: %d rows' % (X_train.shape[0], X_test.shape[0]))"
      ],
      "metadata": {
        "colab": {
          "base_uri": "https://localhost:8080/"
        },
        "id": "DS8fgkDVboPN",
        "outputId": "a3645330-6cad-4ae2-9c19-acb8a3971895"
      },
      "execution_count": null,
      "outputs": [
        {
          "output_type": "stream",
          "name": "stdout",
          "text": [
            "The Training Set: 900 rows\n",
            "Test Set: 100 rows\n"
          ]
        }
      ]
    },
    {
      "cell_type": "code",
      "source": [
        ""
      ],
      "metadata": {
        "colab": {
          "base_uri": "https://localhost:8080/",
          "height": 165
        },
        "id": "2RUv65BdY8Vc",
        "outputId": "99a45729-1080-4ab5-fa3e-dd852581ed80"
      },
      "execution_count": null,
      "outputs": [
        {
          "output_type": "error",
          "ename": "AttributeError",
          "evalue": "ignored",
          "traceback": [
            "\u001b[0;31m---------------------------------------------------------------------------\u001b[0m",
            "\u001b[0;31mAttributeError\u001b[0m                            Traceback (most recent call last)",
            "\u001b[0;32m<ipython-input-51-8f36ebbbbe7e>\u001b[0m in \u001b[0;36m<module>\u001b[0;34m()\u001b[0m\n\u001b[0;32m----> 1\u001b[0;31m \u001b[0mX_train\u001b[0m \u001b[0;34m=\u001b[0m \u001b[0mpd\u001b[0m\u001b[0;34m.\u001b[0m\u001b[0mDataFrame\u001b[0m\u001b[0;34m(\u001b[0m\u001b[0mX_train\u001b[0m\u001b[0;34m,\u001b[0m \u001b[0mcolumns\u001b[0m \u001b[0;34m=\u001b[0m \u001b[0mX\u001b[0m\u001b[0;34m.\u001b[0m\u001b[0mcolumns\u001b[0m\u001b[0;34m)\u001b[0m\u001b[0;34m\u001b[0m\u001b[0;34m\u001b[0m\u001b[0m\n\u001b[0m",
            "\u001b[0;31mAttributeError\u001b[0m: 'numpy.ndarray' object has no attribute 'columns'"
          ]
        }
      ]
    },
    {
      "cell_type": "code",
      "execution_count": null,
      "metadata": {
        "id": "IfcYcHDqvvf6",
        "colab": {
          "base_uri": "https://localhost:8080/"
        },
        "outputId": "77a152aa-7bdc-423b-f8cc-0865a56bc43c"
      },
      "outputs": [
        {
          "output_type": "stream",
          "name": "stdout",
          "text": [
            "[[ 18  61]\n",
            " [826 386]\n",
            " [518 772]\n",
            " ...\n",
            " [153 801]\n",
            " [726 744]\n",
            " [493 979]]\n"
          ]
        }
      ],
      "source": [
        "print(X_train)\n",
        "\n",
        "\n"
      ]
    },
    {
      "cell_type": "code",
      "source": [
        "print(y_train)\n"
      ],
      "metadata": {
        "colab": {
          "base_uri": "https://localhost:8080/"
        },
        "id": "vjrrHD8D2aFc",
        "outputId": "2b41468c-2b10-4d92-9b14-2fbd59347e94"
      },
      "execution_count": null,
      "outputs": [
        {
          "output_type": "stream",
          "name": "stdout",
          "text": [
            "[2.51831429e+03 6.51841029e+05 8.23036114e+05 1.07736803e+06\n",
            " 2.06993829e+05 8.23168314e+05 2.21129114e+05 1.66058286e+04\n",
            " 1.48401400e+05 7.30240029e+05 6.35764571e+04 4.71719400e+05\n",
            " 5.86383429e+05 7.03160114e+05 9.35724286e+04 1.86264314e+05\n",
            " 9.66332571e+04 1.24874203e+06 1.17433029e+05 2.85719400e+05\n",
            " 9.25831429e+03 3.18040000e+04 7.42452257e+05 3.47416457e+05\n",
            " 5.05611429e+03 5.77260314e+05 2.16979114e+05 8.80350429e+05\n",
            " 7.38879429e+05 9.02100600e+05 4.76394429e+05 1.99823400e+05\n",
            " 4.22777829e+05 2.31532457e+05 3.77713029e+05 7.07185714e+05\n",
            " 9.65613829e+05 8.91980286e+04 7.00945714e+03 8.38108314e+05\n",
            " 3.30255457e+05 2.92210029e+05 1.77937829e+05 2.70368000e+05\n",
            " 3.16844114e+05 4.11841143e+04 2.51269829e+05 1.53178286e+04\n",
            " 9.13729029e+05 4.53954314e+05 9.97619314e+05 1.10432926e+06\n",
            " 6.33191143e+04 4.69778400e+05 1.05181543e+06 9.08938286e+04\n",
            " 3.16833400e+05 6.23115314e+05 6.00674857e+05 3.17104114e+05\n",
            " 4.70399314e+05 7.97577257e+05 6.02291457e+05 2.19952457e+05\n",
            " 4.73076600e+05 1.86544286e+04 5.06370429e+05 5.21228571e+04\n",
            " 1.93753029e+05 3.98301257e+05 2.00866257e+05 3.48355314e+05\n",
            " 6.34284314e+05 4.78631429e+03 4.16356029e+05 1.53596811e+06\n",
            " 7.15664114e+05 7.07601457e+05 1.01681643e+06 3.57346029e+05\n",
            " 1.07822443e+06 8.47641257e+05 3.99510257e+05 8.46169714e+05\n",
            " 1.30239429e+05 6.16569857e+05 2.81766400e+05 2.54504257e+05\n",
            " 3.78242857e+05 2.29690286e+04 8.66502857e+03 1.85476314e+05\n",
            " 4.41286600e+05 7.12463400e+05 2.29356000e+05 2.77241143e+04\n",
            " 7.21471314e+05 1.33772103e+06 7.04621829e+05 8.94889029e+05\n",
            " 4.92891314e+05 6.27708571e+04 2.33313257e+05 5.98296114e+05\n",
            " 7.58047114e+05 1.05033326e+06 6.34643314e+05 2.82812314e+05\n",
            " 1.55745703e+06 2.51469829e+05 9.57954571e+04 1.60854571e+04\n",
            " 4.40629714e+05 1.51751143e+04 4.63350714e+05 4.87152257e+05\n",
            " 3.28049029e+05 1.47449711e+06 8.03208600e+05 2.52115457e+05\n",
            " 6.85716457e+05 5.81400286e+04 1.24290600e+05 5.62824114e+05\n",
            " 2.68353714e+05 1.38011383e+06 1.40512903e+06 4.99694829e+05\n",
            " 1.48585029e+05 1.20913260e+06 6.87856114e+05 2.46084286e+04\n",
            " 4.54566429e+05 1.94317829e+05 3.75462571e+04 6.54135429e+05\n",
            " 2.64481029e+05 8.05821400e+05 4.49269457e+05 1.49946257e+05\n",
            " 1.04956829e+05 9.05448286e+04 5.83889114e+05 5.47488114e+05\n",
            " 1.33161386e+06 4.93706829e+05 9.77113714e+05 6.19684714e+05\n",
            " 1.48562314e+05 7.19365600e+05 6.81058286e+04 7.90416000e+04\n",
            " 4.76349257e+05 9.81716600e+05 2.57202029e+05 2.91132000e+05\n",
            " 9.99582257e+05 4.00778286e+04 1.06297831e+06 4.60782857e+05\n",
            " 4.22685029e+05 1.86678314e+05 6.30519857e+05 3.55520829e+05\n",
            " 1.65529726e+06 1.14416314e+05 1.37425783e+06 5.17540000e+03\n",
            " 1.27002857e+03 1.18851786e+06 7.85161029e+05 1.49261146e+06\n",
            " 1.26718971e+06 5.47971429e+05 2.45986714e+05 2.31584257e+05\n",
            " 1.85762571e+04 5.62423143e+04 2.41161257e+05 9.25585714e+03\n",
            " 8.26151143e+04 7.24028571e+02 1.33336029e+05 6.03596829e+05\n",
            " 1.81551457e+05 7.88616000e+04 4.55728829e+05 5.60757457e+05\n",
            " 9.79992257e+05 6.54204286e+04 1.42908286e+04 3.04432457e+05\n",
            " 8.24400600e+05 3.31453714e+05 5.29296257e+05 1.00324029e+05\n",
            " 8.68479400e+05 1.27960046e+06 5.23650400e+05 2.44177114e+05\n",
            " 2.39418314e+05 3.78131314e+05 6.76430029e+05 1.07111429e+03\n",
            " 7.78494571e+04 1.50911211e+06 2.61596714e+05 1.66231457e+05\n",
            " 1.66440286e+04 2.43109457e+05 3.55214714e+05 4.80946400e+05\n",
            " 7.56696114e+05 1.31596457e+05 6.70937114e+05 4.12283314e+05\n",
            " 9.66728286e+04 2.84117829e+05 1.09724626e+06 2.42666829e+05\n",
            " 6.13645600e+05 3.26921143e+04 6.61005000e+05 4.56082714e+05\n",
            " 1.81536343e+06 2.56621829e+05 1.18457029e+05 9.02261457e+05\n",
            " 9.58763457e+05 5.40877829e+05 3.05595400e+05 8.27993257e+05\n",
            " 3.45933257e+05 1.39407457e+05 6.10293600e+05 5.78913857e+05\n",
            " 1.43040286e+04 1.53731314e+05 1.99914571e+04 1.31257029e+05\n",
            " 4.26357257e+05 2.39585714e+05 3.76202257e+05 3.14520000e+04\n",
            " 3.45304286e+04 8.14731429e+03 1.22953257e+05 3.97636457e+05\n",
            " 1.23172829e+05 4.52397600e+05 3.01391143e+04 4.94674314e+05\n",
            " 1.01789931e+06 4.32204571e+04 6.03241257e+05 8.62913143e+04\n",
            " 1.26995511e+06 5.49207314e+05 4.48644314e+05 1.10090883e+06\n",
            " 4.92524600e+05 1.14843143e+04 6.77849714e+05 8.20856114e+05\n",
            " 4.17030029e+05 1.92604571e+04 1.16260029e+05 1.74367326e+06\n",
            " 4.12822257e+05 1.69837714e+05 4.13732829e+05 2.71120286e+04\n",
            " 8.08565257e+05 5.02000000e+04 1.22228571e+06 1.07916029e+05\n",
            " 7.59242400e+05 6.16957257e+05 1.50487143e+04 9.09842571e+04\n",
            " 1.17762314e+05 3.50800114e+05 9.72528114e+05 4.35623000e+05\n",
            " 3.19512429e+05 1.07312314e+05 4.62369857e+05 8.97683457e+05\n",
            " 4.82433257e+05 1.71276926e+06 6.82266857e+05 6.71115429e+05\n",
            " 2.37080114e+05 8.14090286e+04 5.11930286e+04 4.30492314e+05\n",
            " 1.17746071e+06 1.34438400e+05 8.73038314e+05 6.98809714e+05\n",
            " 4.72613829e+05 1.61116457e+05 7.63557000e+05 1.04375031e+06\n",
            " 3.86430429e+05 4.29082857e+03 2.64800029e+05 1.46083211e+06\n",
            " 1.02109714e+05 7.49361029e+05 2.69112457e+05 1.60506429e+05\n",
            " 7.39732314e+05 1.96825714e+03 8.15536829e+05 9.62502571e+04\n",
            " 1.74754600e+05 2.40833829e+05 1.05400000e+02 6.25307314e+05\n",
            " 1.36864443e+06 3.62071143e+04 1.46566411e+06 5.56986600e+05\n",
            " 6.16478829e+05 5.75879314e+05 8.64352114e+05 2.40202314e+05\n",
            " 5.83062571e+04 3.38140000e+05 4.46968286e+04 1.15681143e+04\n",
            " 3.42182029e+05 3.68407143e+04 2.75385857e+05 2.08777714e+05\n",
            " 1.62132686e+06 9.10304829e+05 3.92907457e+05 3.95666857e+05\n",
            " 1.61217257e+05 7.23400314e+05 4.81235314e+05 2.78414571e+04\n",
            " 6.09299314e+05 5.82477829e+05 6.24742429e+05 6.65511429e+03\n",
            " 1.17146846e+06 1.28727260e+06 4.07851114e+05 1.27145029e+05\n",
            " 2.16833457e+05 3.46296114e+05 8.69366857e+05 9.85604457e+05\n",
            " 5.37476829e+05 1.75371114e+05 1.06949040e+06 5.84457029e+05\n",
            " 9.42241457e+05 3.95288286e+04 1.30851000e+05 5.01712600e+05\n",
            " 1.64620029e+05 7.00696029e+05 1.20599246e+06 1.59128829e+05\n",
            " 1.90750029e+05 6.21303429e+05 2.38826857e+05 5.54582857e+03\n",
            " 1.47318743e+06 9.16383143e+04 7.61464000e+04 8.37444286e+04\n",
            " 8.62471114e+05 2.68258286e+04 1.28496257e+05 2.24347114e+05\n",
            " 6.14610429e+05 7.27744114e+05 2.95560286e+04 1.16136540e+06\n",
            " 4.39602400e+05 3.81268714e+05 3.19070314e+05 1.89236829e+05\n",
            " 8.68729257e+05 8.41457143e+02 2.40577143e+04 4.99556314e+05\n",
            " 1.72224626e+06 6.46518314e+05 3.21042571e+04 1.79771043e+06\n",
            " 1.07782503e+06 2.50464114e+05 5.40201257e+05 1.88438257e+05\n",
            " 4.58609457e+05 1.73457143e+02 1.03069003e+06 5.02194857e+05\n",
            " 3.39907314e+05 4.33394571e+04 3.82561143e+04 1.46307671e+06\n",
            " 9.32680286e+04 7.48334571e+04 1.12075783e+06 5.17377029e+05\n",
            " 1.30503111e+06 1.07004960e+06 2.93546829e+05 1.05945026e+06\n",
            " 2.86018857e+05 2.22299400e+05 8.28351143e+04 3.19714029e+05\n",
            " 6.22649829e+05 5.49034029e+05 5.37425257e+05 9.31366829e+05\n",
            " 6.24474257e+05 8.41912114e+05 1.24421346e+06 1.39883700e+06\n",
            " 1.30431429e+05 1.04920946e+06 2.34048286e+04 2.59291143e+04\n",
            " 4.70630400e+05 6.39442429e+05 5.05469257e+05 8.11563143e+04\n",
            " 4.77348457e+05 1.04813600e+06 5.65980000e+05 1.61846203e+06\n",
            " 2.78615429e+05 6.72392829e+05 8.91769114e+05 6.40446429e+05\n",
            " 1.37049829e+05 9.40712114e+05 8.03035857e+05 1.02334711e+06\n",
            " 2.78072257e+05 5.20717457e+05 8.96234571e+04 1.46044903e+06\n",
            " 1.15344643e+06 6.58197829e+05 3.09712257e+05 1.43518183e+06\n",
            " 6.98827114e+05 9.07841143e+04 1.03987314e+05 1.22337111e+06\n",
            " 4.55983857e+05 3.79737400e+05 1.29173829e+05 3.50058714e+05\n",
            " 1.79065714e+05 3.34174571e+04 1.37193257e+05 4.86652457e+05\n",
            " 9.73751114e+05 1.17646257e+05 2.64662829e+05 1.93085257e+05\n",
            " 2.74972029e+05 3.42303143e+04 6.03438857e+05 1.24286460e+06\n",
            " 8.59933857e+05 3.08131143e+04 2.17334314e+05 1.54538846e+06\n",
            " 2.71826029e+05 3.81819429e+05 2.90225714e+03 1.19853829e+05\n",
            " 4.91389457e+05 2.39246314e+05 3.34372457e+05 1.24416829e+05\n",
            " 5.55003429e+05 1.76954503e+06 2.45060457e+05 8.54450286e+04\n",
            " 4.54249257e+05 3.47754257e+05 9.20531314e+05 5.31800286e+04\n",
            " 3.54956457e+05 7.91088286e+04 2.08988457e+05 5.78882857e+05\n",
            " 1.08112411e+06 4.95868457e+05 1.14387431e+06 4.76623457e+05\n",
            " 2.83583143e+04 6.12330286e+04 3.90116257e+05 1.61112600e+05\n",
            " 4.17425400e+05 3.05002257e+05 5.07560114e+05 9.54588457e+05\n",
            " 9.38430829e+05 6.50273143e+04 1.03529243e+06 5.85545714e+03\n",
            " 1.23976740e+06 2.43062571e+04 8.26495000e+05 4.98928286e+04\n",
            " 8.59049114e+05 3.54575114e+05 1.33531429e+05 1.49315314e+05\n",
            " 1.15057114e+05 1.74842829e+05 9.24024000e+04 2.20367314e+05\n",
            " 1.19722029e+05 4.32572571e+04 1.54566140e+06 2.86745714e+05\n",
            " 8.84457600e+05 7.36484029e+05 1.59435511e+06 1.09042026e+06\n",
            " 1.56607543e+06 1.05541457e+05 5.36190829e+05 8.07512429e+05\n",
            " 8.18464114e+05 1.03501829e+05 2.49043114e+05 1.28284457e+05\n",
            " 1.26525586e+06 6.52805829e+05 6.67142857e+01 6.25714857e+05\n",
            " 1.42239803e+06 5.39021457e+05 3.66960286e+04 8.74551143e+04\n",
            " 4.52268000e+05 7.26984429e+05 1.94852457e+05 2.40745257e+05\n",
            " 1.28610714e+05 1.15123486e+06 1.40516460e+06 1.53670731e+06\n",
            " 5.02017029e+05 4.68321143e+04 1.60969257e+05 5.18856029e+05\n",
            " 1.00447483e+06 4.04337143e+04 5.38421457e+05 7.24974257e+05\n",
            " 9.76260286e+04 6.82271314e+05 4.08860829e+05 1.30380711e+06\n",
            " 8.49300286e+04 1.74310731e+06 2.63337829e+05 1.03650411e+06\n",
            " 1.71635803e+06 1.44585886e+06 4.26940257e+05 2.71050400e+05\n",
            " 1.53021457e+05 7.58377114e+05 1.08429600e+05 5.41882857e+03\n",
            " 1.02252331e+06 9.56928114e+05 1.55349257e+05 4.56054429e+05\n",
            " 2.15877600e+05 1.66367443e+06 1.23143271e+06 3.60812829e+05\n",
            " 8.04764571e+04 1.94912829e+05 9.14373114e+05 8.70682857e+03\n",
            " 4.99507457e+05 1.18924114e+05 9.54178829e+05 8.47613829e+05\n",
            " 7.32261029e+05 2.23961400e+05 1.67575457e+05 5.58759857e+05\n",
            " 7.43933829e+05 4.59800314e+05 2.20722829e+05 1.27662571e+04\n",
            " 1.11477871e+06 1.29384686e+06 7.67623429e+05 1.42482857e+03\n",
            " 5.97743114e+05 1.79843143e+04 5.55545000e+05 3.58129714e+05\n",
            " 4.08340286e+04 3.81815314e+05 3.16188000e+05 2.98081029e+05\n",
            " 6.18911429e+03 2.53718829e+05 6.74216000e+04 1.88056114e+05\n",
            " 3.37428429e+05 7.91715314e+05 8.68430829e+05 6.59932571e+04\n",
            " 7.13457257e+05 7.31992257e+05 1.32183143e+06 1.90276457e+05\n",
            " 5.47625257e+05 1.15307900e+06 3.22402857e+03 7.95132257e+05\n",
            " 1.60322146e+06 8.08596257e+05 2.56361143e+04 5.77806829e+05\n",
            " 1.12557114e+05 1.12012571e+04 2.36956114e+05 3.62571429e+01\n",
            " 1.01029114e+05 7.86488286e+04 9.23171143e+04 1.47562483e+06\n",
            " 9.84742571e+04 2.95489114e+05 1.42404926e+06 3.27117457e+05\n",
            " 6.16659457e+05 1.10939546e+06 1.30044314e+05 7.18649400e+05\n",
            " 1.27749383e+06 1.02610903e+06 3.91831429e+03 3.37170857e+05\n",
            " 1.12016714e+05 2.35764114e+05 4.92338400e+05 7.51032257e+05\n",
            " 3.58148457e+05 1.03064314e+05 1.81699114e+05 7.12977114e+05\n",
            " 4.24489114e+05 9.38629029e+05 7.48713857e+05 1.38913714e+05\n",
            " 6.73711143e+04 7.34313257e+05 3.38068257e+05 1.09235683e+06\n",
            " 8.71485457e+05 4.74588257e+05 8.78646257e+05 1.08651231e+06\n",
            " 1.14028114e+05 1.09212031e+06 6.71197457e+05 7.74480114e+05\n",
            " 2.21392829e+05 1.49123371e+06 1.52406083e+06 5.10753257e+05\n",
            " 2.99089029e+05 3.47025714e+03 3.19655314e+05 9.77468829e+05\n",
            " 1.25074640e+06 4.17231429e+03 1.86374083e+06 3.75531400e+05\n",
            " 6.11333829e+05 1.97787143e+04 5.48252571e+04 9.88129457e+05\n",
            " 3.62578714e+05 2.89045257e+05 4.05570857e+05 3.60092314e+05\n",
            " 1.57454111e+06 6.74171314e+05 1.16391429e+05 1.03489114e+05\n",
            " 1.04123114e+05 4.73130286e+04 2.94994429e+05 1.64061746e+06\n",
            " 2.84966314e+05 4.42691143e+04 6.16366857e+05 4.82883143e+04\n",
            " 4.16308457e+05 2.24846314e+05 9.71624114e+05 7.00322857e+05\n",
            " 6.68045714e+03 3.05201829e+05 3.28200257e+05 1.65682571e+04\n",
            " 1.04120286e+04 7.11794571e+04 4.58031857e+05 8.23033029e+05\n",
            " 1.14400011e+06 8.91177257e+05 5.56872257e+05 1.44061911e+06\n",
            " 3.51865257e+05 6.32188314e+05 1.10411426e+06 9.47629114e+05\n",
            " 1.70761660e+06 1.21228429e+05 5.21373600e+05 3.68860286e+04\n",
            " 3.03944714e+05 2.40652029e+05 5.00645457e+05 1.04578046e+06\n",
            " 1.13658643e+06 7.42702029e+05 5.94753143e+04 1.64214429e+05\n",
            " 6.40081029e+05 2.28364457e+05 1.01454160e+06 9.53685000e+05\n",
            " 8.10049600e+05 4.03842857e+05 4.10314286e+02 2.00457257e+05\n",
            " 8.29200314e+05 2.88919429e+05 2.71664029e+05 2.32641143e+04\n",
            " 5.89426857e+05 4.68467143e+04 1.54241114e+05 8.38934829e+05\n",
            " 1.36031143e+04 7.94976829e+05 3.96298257e+05 3.89294314e+05\n",
            " 7.28266029e+05 2.40674400e+05 3.79513029e+05 5.44500029e+05\n",
            " 2.91141829e+05 6.93393029e+05 5.94954286e+04 9.44423143e+04\n",
            " 3.09613114e+05 6.51534571e+04 7.36065029e+05 5.05027400e+05\n",
            " 7.38660286e+04 9.56940000e+03 1.01626314e+05 1.77567400e+05\n",
            " 2.30945714e+03 5.45187114e+05 1.61142857e+01 1.03615326e+06\n",
            " 5.29153029e+05 1.22792686e+06 2.87068457e+05 1.30749886e+06\n",
            " 7.37536114e+05 5.37114286e+02 1.71603946e+06 6.78212571e+04\n",
            " 6.16457029e+05 6.30814029e+05 3.25132829e+05 1.24615340e+06\n",
            " 1.65311429e+03 4.93009714e+05 1.97369714e+05 1.11379646e+06\n",
            " 6.08830829e+05 7.81566429e+05 1.08556003e+06 2.67914286e+04\n",
            " 2.89780114e+05 1.92241143e+04 2.13269829e+05 2.25829029e+05\n",
            " 1.73630100e+06 7.38529714e+05 1.10952031e+06 4.32728286e+04\n",
            " 3.13985257e+05 1.71064257e+05 4.93764571e+04 3.19123400e+05\n",
            " 1.06647531e+06 5.58568457e+05 1.50313257e+05 3.21153829e+05\n",
            " 2.41597829e+05 5.25291429e+05 6.72129029e+05 2.11805600e+05\n",
            " 1.36744026e+06 4.21308286e+04 3.43372714e+05 1.54600946e+06\n",
            " 5.54434600e+05 5.76091143e+04 9.29079314e+05 2.16700286e+04\n",
            " 1.80517600e+05 8.18933600e+05 6.95233029e+05 7.04410857e+05\n",
            " 4.96746257e+05 7.78041257e+05 1.71829829e+05 2.44745457e+05\n",
            " 2.22812571e+04 5.34515457e+05 3.13061829e+05 3.11877257e+05\n",
            " 8.59434857e+05 8.15497257e+05 1.27018346e+06 3.45400714e+05\n",
            " 1.06489783e+06 1.25717211e+06 6.72088457e+05 1.93129257e+05\n",
            " 1.20136029e+05 2.36712114e+05 1.21469714e+05 3.09564029e+05\n",
            " 2.63448114e+05 1.07180386e+06 1.19554571e+04 6.79977257e+05\n",
            " 3.96173829e+05 2.03351143e+04 1.02880114e+05 1.25448286e+04\n",
            " 1.43706126e+06 3.44567429e+05 3.43392114e+05 2.20280000e+04\n",
            " 9.85393143e+04 1.57312114e+05 9.84988286e+04 7.39640829e+05\n",
            " 3.30257143e+02 6.09377143e+04 1.13411211e+06 7.35845400e+05\n",
            " 6.36024000e+04 5.09602857e+03 5.45382571e+04 3.63689257e+05\n",
            " 4.57410857e+05 6.80136829e+05 2.44549600e+05 8.86261457e+05\n",
            " 2.07198857e+05 1.01254603e+06 2.49983143e+04 4.77021029e+05\n",
            " 1.77320331e+06 3.76396457e+05 2.10333600e+05 2.32828571e+02\n",
            " 4.95720000e+05 2.65273457e+05 1.10481531e+06 9.98594029e+05]\n"
          ]
        }
      ]
    },
    {
      "cell_type": "code",
      "source": [
        "print(X_test)"
      ],
      "metadata": {
        "colab": {
          "base_uri": "https://localhost:8080/"
        },
        "id": "jqOpiyTX3JCE",
        "outputId": "3485bab9-e964-4344-af53-cc5d0aeaf7a1"
      },
      "execution_count": null,
      "outputs": [
        {
          "output_type": "stream",
          "name": "stdout",
          "text": [
            "[[311 265]\n",
            " [951 145]\n",
            " [985 786]\n",
            " [ 66 317]\n",
            " [ 59 277]\n",
            " [286 535]\n",
            " [230 665]\n",
            " [876 601]\n",
            " [ 69 347]\n",
            " [140 329]\n",
            " [480 819]\n",
            " [917 836]\n",
            " [798 609]\n",
            " [157 145]\n",
            " [156 451]\n",
            " [965 721]\n",
            " [310 793]\n",
            " [861 216]\n",
            " [566  75]\n",
            " [663 295]\n",
            " [950 993]\n",
            " [226 120]\n",
            " [978 111]\n",
            " [940 984]\n",
            " [390 511]\n",
            " [895 784]\n",
            " [ 75 379]\n",
            " [640 255]\n",
            " [627 279]\n",
            " [403 694]\n",
            " [410 511]\n",
            " [ 98 521]\n",
            " [979 987]\n",
            " [629 562]\n",
            " [936 986]\n",
            " [447 721]\n",
            " [674 756]\n",
            " [824 800]\n",
            " [878 894]\n",
            " [677   5]\n",
            " [ 79 401]\n",
            " [327 982]\n",
            " [ 82 421]\n",
            " [356 497]\n",
            " [341 375]\n",
            " [732 156]\n",
            " [612 109]\n",
            " [423 820]\n",
            " [506  75]\n",
            " [996  52]\n",
            " [758 647]\n",
            " [ 45 197]\n",
            " [655 886]\n",
            " [585 649]\n",
            " [869  72]\n",
            " [862 491]\n",
            " [716 945]\n",
            " [665 245]\n",
            " [276 720]\n",
            " [990 737]\n",
            " [982 690]\n",
            " [192  29]\n",
            " [136  89]\n",
            " [476 866]\n",
            " [ 33 137]\n",
            " [717 887]\n",
            " [483 108]\n",
            " [579 758]\n",
            " [196 722]\n",
            " [ 30 113]\n",
            " [105 768]\n",
            " [961 206]\n",
            " [799 665]\n",
            " [832 195]\n",
            " [544  70]\n",
            " [623 732]\n",
            " [595 518]\n",
            " [838 676]\n",
            " [844 207]\n",
            " [102 710]\n",
            " [654 925]\n",
            " [786 471]\n",
            " [641 284]\n",
            " [347 274]\n",
            " [187 575]\n",
            " [ 55 257]\n",
            " [766 485]\n",
            " [881 439]\n",
            " [801 473]\n",
            " [526  25]\n",
            " [112 374]\n",
            " [787  46]\n",
            " [381 493]\n",
            " [ 74 373]\n",
            " [468 259]\n",
            " [994 881]\n",
            " [249 927]\n",
            " [293 466]\n",
            " [217 682]\n",
            " [399 823]]\n"
          ]
        }
      ]
    },
    {
      "cell_type": "code",
      "source": [
        "print(y_test)"
      ],
      "metadata": {
        "colab": {
          "base_uri": "https://localhost:8080/"
        },
        "id": "MOkQRyCnfQcL",
        "outputId": "df05700d-997f-4f77-a5c1-789396ff1888"
      },
      "execution_count": null,
      "outputs": [
        {
          "output_type": "stream",
          "name": "stdout",
          "text": [
            "[ 170568.4286    287802.7143   1577891.314      45507.11429\n",
            "   35586.25714   317629.8571    321295.       1073784.029\n",
            "   52154.25714    96892.6       811164.6      1564196.457\n",
            "  992136.6        48014.71429   148395.4571   1417962.6\n",
            "  513347.1143    383617.0286     91852.71429   401612.4286\n",
            " 1926272.829      57363.42857   229204.0286   1888864.457\n",
            "  410720.6      1431661.6        61854.02857   335937.8571\n",
            "  359614.0286    577961.0286    431400.6       111047.4571\n",
            " 1972127.4       723568.1143   1884801.029     664790.6\n",
            " 1043505.6      1346573.714    1603235.314      14894.71429\n",
            "   68900.31429   673704.1143     75092.02857   365193.4\n",
            "  263859.8571    237863.3143    141099.4571    718007.4286\n",
            "   82132.71429   115613.2571   1001908.257      19378.82857\n",
            " 1190948.457     778384.3143    135712.1143    863716.0286\n",
            " 1387347.        335545.        415563.4286   1486659.114\n",
            " 1380546.857      13464.02857    26066.31429   851571.3143\n",
            "    9974.257143 1303041.114     110457.2571    901128.1143\n",
            "  300269.8286      7504.828571  179392.1143    408676.4571\n",
            " 1084893.        335550.4286     82828.        934857.2571\n",
            "  631226.4      1156088.457     360768.2571    160466.8571\n",
            " 1242194.429     756182.3143    374084.4571    196465.0286\n",
            "  226740.4286     30817.11429   758932.7143    789596.3143\n",
            "  773750.2571     32629.85714    89116.45714    81908.45714\n",
            "  387182.2571     60067.11429   249956.6      1785532.029\n",
            "  489186.2571    282796.4571    311881.2571    680894.2571  ]\n"
          ]
        }
      ]
    },
    {
      "cell_type": "markdown",
      "metadata": {
        "id": "DWge6q5ivvf7"
      },
      "source": [
        "## Part 3. Perform a Linear Regression"
      ]
    },
    {
      "cell_type": "markdown",
      "source": [
        "I will create a model to predict the change in sizes of the slime based off of  Potassium Chloride (KCL) and Temperatures."
      ],
      "metadata": {
        "id": "llrtQq7IVEJq"
      }
    },
    {
      "cell_type": "code",
      "source": [
        "### Use sklearn to train a model on the training set\n",
        "\n",
        "reg_model = LinearRegression()\n",
        "# train the model on training data\n",
        "reg_model.fit(X_train, y_train)\n"
      ],
      "metadata": {
        "colab": {
          "base_uri": "https://localhost:8080/"
        },
        "id": "QwC6t-Cufaqi",
        "outputId": "68f969b7-c555-4bea-ae4c-f6c6e3eea561"
      },
      "execution_count": null,
      "outputs": [
        {
          "output_type": "execute_result",
          "data": {
            "text/plain": [
              "LinearRegression()"
            ]
          },
          "metadata": {},
          "execution_count": 36
        }
      ]
    },
    {
      "cell_type": "code",
      "source": [
        "# Here we grab the intercepts\n",
        "print(reg_model.intercept_)"
      ],
      "metadata": {
        "colab": {
          "base_uri": "https://localhost:8080/"
        },
        "id": "PV7HpkIxgLLb",
        "outputId": "6445b692-ed40-4353-fd24-799cf1e3c9ae"
      },
      "execution_count": null,
      "outputs": [
        {
          "output_type": "stream",
          "name": "stdout",
          "text": [
            "-400305.9133335322\n"
          ]
        }
      ]
    },
    {
      "cell_type": "code",
      "source": [
        "# Here I am trying to relate each feature of the dataset \n",
        "reg_model.coef_"
      ],
      "metadata": {
        "colab": {
          "base_uri": "https://localhost:8080/"
        },
        "id": "4A-CC5ApWgGt",
        "outputId": "425b4ba0-1ebf-48e4-d1bf-3d739b2bc68c"
      },
      "execution_count": null,
      "outputs": [
        {
          "output_type": "execute_result",
          "data": {
            "text/plain": [
              "array([ 863.58108791, 1006.12741921])"
            ]
          },
          "metadata": {},
          "execution_count": 38
        }
      ]
    },
    {
      "cell_type": "markdown",
      "source": [
        ""
      ],
      "metadata": {
        "id": "1eGbcPWYZgP2"
      }
    },
    {
      "cell_type": "code",
      "execution_count": null,
      "metadata": {
        "id": "8Qahv8nGvvf8",
        "colab": {
          "base_uri": "https://localhost:8080/",
          "height": 112
        },
        "outputId": "b463a7bc-9e49-4596-c77c-f6079fd1f221"
      },
      "outputs": [
        {
          "output_type": "execute_result",
          "data": {
            "text/plain": [
              "             coef\n",
              "Temp   863.581088\n",
              "KCL   1006.127419"
            ],
            "text/html": [
              "\n",
              "  <div id=\"df-6e56603e-7c06-435f-abed-4185a36700a0\">\n",
              "    <div class=\"colab-df-container\">\n",
              "      <div>\n",
              "<style scoped>\n",
              "    .dataframe tbody tr th:only-of-type {\n",
              "        vertical-align: middle;\n",
              "    }\n",
              "\n",
              "    .dataframe tbody tr th {\n",
              "        vertical-align: top;\n",
              "    }\n",
              "\n",
              "    .dataframe thead th {\n",
              "        text-align: right;\n",
              "    }\n",
              "</style>\n",
              "<table border=\"1\" class=\"dataframe\">\n",
              "  <thead>\n",
              "    <tr style=\"text-align: right;\">\n",
              "      <th></th>\n",
              "      <th>coef</th>\n",
              "    </tr>\n",
              "  </thead>\n",
              "  <tbody>\n",
              "    <tr>\n",
              "      <th>Temp</th>\n",
              "      <td>863.581088</td>\n",
              "    </tr>\n",
              "    <tr>\n",
              "      <th>KCL</th>\n",
              "      <td>1006.127419</td>\n",
              "    </tr>\n",
              "  </tbody>\n",
              "</table>\n",
              "</div>\n",
              "      <button class=\"colab-df-convert\" onclick=\"convertToInteractive('df-6e56603e-7c06-435f-abed-4185a36700a0')\"\n",
              "              title=\"Convert this dataframe to an interactive table.\"\n",
              "              style=\"display:none;\">\n",
              "        \n",
              "  <svg xmlns=\"http://www.w3.org/2000/svg\" height=\"24px\"viewBox=\"0 0 24 24\"\n",
              "       width=\"24px\">\n",
              "    <path d=\"M0 0h24v24H0V0z\" fill=\"none\"/>\n",
              "    <path d=\"M18.56 5.44l.94 2.06.94-2.06 2.06-.94-2.06-.94-.94-2.06-.94 2.06-2.06.94zm-11 1L8.5 8.5l.94-2.06 2.06-.94-2.06-.94L8.5 2.5l-.94 2.06-2.06.94zm10 10l.94 2.06.94-2.06 2.06-.94-2.06-.94-.94-2.06-.94 2.06-2.06.94z\"/><path d=\"M17.41 7.96l-1.37-1.37c-.4-.4-.92-.59-1.43-.59-.52 0-1.04.2-1.43.59L10.3 9.45l-7.72 7.72c-.78.78-.78 2.05 0 2.83L4 21.41c.39.39.9.59 1.41.59.51 0 1.02-.2 1.41-.59l7.78-7.78 2.81-2.81c.8-.78.8-2.07 0-2.86zM5.41 20L4 18.59l7.72-7.72 1.47 1.35L5.41 20z\"/>\n",
              "  </svg>\n",
              "      </button>\n",
              "      \n",
              "  <style>\n",
              "    .colab-df-container {\n",
              "      display:flex;\n",
              "      flex-wrap:wrap;\n",
              "      gap: 12px;\n",
              "    }\n",
              "\n",
              "    .colab-df-convert {\n",
              "      background-color: #E8F0FE;\n",
              "      border: none;\n",
              "      border-radius: 50%;\n",
              "      cursor: pointer;\n",
              "      display: none;\n",
              "      fill: #1967D2;\n",
              "      height: 32px;\n",
              "      padding: 0 0 0 0;\n",
              "      width: 32px;\n",
              "    }\n",
              "\n",
              "    .colab-df-convert:hover {\n",
              "      background-color: #E2EBFA;\n",
              "      box-shadow: 0px 1px 2px rgba(60, 64, 67, 0.3), 0px 1px 3px 1px rgba(60, 64, 67, 0.15);\n",
              "      fill: #174EA6;\n",
              "    }\n",
              "\n",
              "    [theme=dark] .colab-df-convert {\n",
              "      background-color: #3B4455;\n",
              "      fill: #D2E3FC;\n",
              "    }\n",
              "\n",
              "    [theme=dark] .colab-df-convert:hover {\n",
              "      background-color: #434B5C;\n",
              "      box-shadow: 0px 1px 3px 1px rgba(0, 0, 0, 0.15);\n",
              "      filter: drop-shadow(0px 1px 2px rgba(0, 0, 0, 0.3));\n",
              "      fill: #FFFFFF;\n",
              "    }\n",
              "  </style>\n",
              "\n",
              "      <script>\n",
              "        const buttonEl =\n",
              "          document.querySelector('#df-6e56603e-7c06-435f-abed-4185a36700a0 button.colab-df-convert');\n",
              "        buttonEl.style.display =\n",
              "          google.colab.kernel.accessAllowed ? 'block' : 'none';\n",
              "\n",
              "        async function convertToInteractive(key) {\n",
              "          const element = document.querySelector('#df-6e56603e-7c06-435f-abed-4185a36700a0');\n",
              "          const dataTable =\n",
              "            await google.colab.kernel.invokeFunction('convertToInteractive',\n",
              "                                                     [key], {});\n",
              "          if (!dataTable) return;\n",
              "\n",
              "          const docLinkHtml = 'Like what you see? Visit the ' +\n",
              "            '<a target=\"_blank\" href=https://colab.research.google.com/notebooks/data_table.ipynb>data table notebook</a>'\n",
              "            + ' to learn more about interactive tables.';\n",
              "          element.innerHTML = '';\n",
              "          dataTable['output_type'] = 'display_data';\n",
              "          await google.colab.output.renderOutput(dataTable, element);\n",
              "          const docLink = document.createElement('div');\n",
              "          docLink.innerHTML = docLinkHtml;\n",
              "          element.appendChild(docLink);\n",
              "        }\n",
              "      </script>\n",
              "    </div>\n",
              "  </div>\n",
              "  "
            ]
          },
          "metadata": {},
          "execution_count": 59
        }
      ],
      "source": [
        "\n"
      ]
    },
    {
      "cell_type": "markdown",
      "source": [
        "If we consider the first feature which is Temp, the increase in size is 863.581. "
      ],
      "metadata": {
        "id": "pD5oW1MAbBqi"
      }
    },
    {
      "cell_type": "code",
      "source": [
        "### Report on the score for that model, in your own words (markdown, not code) explain what the score means\n",
        "\n",
        "### Extract the coefficents and intercept from the model and write an equation for your h(x) using LaTeX"
      ],
      "metadata": {
        "id": "kcEcLPtRfALM"
      },
      "execution_count": null,
      "outputs": []
    },
    {
      "cell_type": "code",
      "source": [
        "# Create a sample datapoint and predict the output of that sample with the trained model\n",
        "\n",
        "Sample = [[345,765]]\n",
        "linear_model.predict(Sample)"
      ],
      "metadata": {
        "colab": {
          "base_uri": "https://localhost:8080/"
        },
        "id": "vX93QigQEclo",
        "outputId": "42a57a7d-ced7-4815-b535-d4d8cfdb61ac"
      },
      "execution_count": null,
      "outputs": [
        {
          "output_type": "stream",
          "name": "stderr",
          "text": [
            "/usr/local/lib/python3.7/dist-packages/sklearn/base.py:451: UserWarning: X does not have valid feature names, but LinearRegression was fitted with feature names\n",
            "  \"X does not have valid feature names, but\"\n"
          ]
        },
        {
          "output_type": "execute_result",
          "data": {
            "text/plain": [
              "array([667317.03769316])"
            ]
          },
          "metadata": {},
          "execution_count": 10
        }
      ]
    },
    {
      "cell_type": "code",
      "source": [
        "# Create a sample datapoint and predict the output of that sample with the trained model\n",
        "\n",
        "Sample = [[345,765]]\n",
        "reg_model.predict(Sample)"
      ],
      "metadata": {
        "colab": {
          "base_uri": "https://localhost:8080/"
        },
        "outputId": "a2c6f1bb-f46b-43a4-a31f-3ad5df2813bf",
        "id": "Ov-Im7BKEi97"
      },
      "execution_count": null,
      "outputs": [
        {
          "output_type": "execute_result",
          "data": {
            "text/plain": [
              "array([667317.03769316])"
            ]
          },
          "metadata": {},
          "execution_count": 75
        }
      ]
    },
    {
      "cell_type": "code",
      "source": [
        "#Since my independent features are in numpy array format, \n",
        "# I converted it to pandas dataframe to access the columns and find the coefficients for the feautures\n",
        "df2 = pd.DataFrame(X, columns = ['Temp','KCL'])\n",
        "coef_df = pd.DataFrame(reg_model.coef_,df2.columns,columns=[\"coef\"])\n",
        "coef_df"
      ],
      "metadata": {
        "colab": {
          "base_uri": "https://localhost:8080/",
          "height": 112
        },
        "id": "63VvFkK7-z2P",
        "outputId": "d2a6dada-884d-44ec-e981-9cf998b20d06"
      },
      "execution_count": null,
      "outputs": [
        {
          "output_type": "execute_result",
          "data": {
            "text/plain": [
              "             coef\n",
              "Temp   863.581088\n",
              "KCL   1006.127419"
            ],
            "text/html": [
              "\n",
              "  <div id=\"df-54e18d82-09f6-4f0f-a2f8-f2c9872333d2\">\n",
              "    <div class=\"colab-df-container\">\n",
              "      <div>\n",
              "<style scoped>\n",
              "    .dataframe tbody tr th:only-of-type {\n",
              "        vertical-align: middle;\n",
              "    }\n",
              "\n",
              "    .dataframe tbody tr th {\n",
              "        vertical-align: top;\n",
              "    }\n",
              "\n",
              "    .dataframe thead th {\n",
              "        text-align: right;\n",
              "    }\n",
              "</style>\n",
              "<table border=\"1\" class=\"dataframe\">\n",
              "  <thead>\n",
              "    <tr style=\"text-align: right;\">\n",
              "      <th></th>\n",
              "      <th>coef</th>\n",
              "    </tr>\n",
              "  </thead>\n",
              "  <tbody>\n",
              "    <tr>\n",
              "      <th>Temp</th>\n",
              "      <td>863.581088</td>\n",
              "    </tr>\n",
              "    <tr>\n",
              "      <th>KCL</th>\n",
              "      <td>1006.127419</td>\n",
              "    </tr>\n",
              "  </tbody>\n",
              "</table>\n",
              "</div>\n",
              "      <button class=\"colab-df-convert\" onclick=\"convertToInteractive('df-54e18d82-09f6-4f0f-a2f8-f2c9872333d2')\"\n",
              "              title=\"Convert this dataframe to an interactive table.\"\n",
              "              style=\"display:none;\">\n",
              "        \n",
              "  <svg xmlns=\"http://www.w3.org/2000/svg\" height=\"24px\"viewBox=\"0 0 24 24\"\n",
              "       width=\"24px\">\n",
              "    <path d=\"M0 0h24v24H0V0z\" fill=\"none\"/>\n",
              "    <path d=\"M18.56 5.44l.94 2.06.94-2.06 2.06-.94-2.06-.94-.94-2.06-.94 2.06-2.06.94zm-11 1L8.5 8.5l.94-2.06 2.06-.94-2.06-.94L8.5 2.5l-.94 2.06-2.06.94zm10 10l.94 2.06.94-2.06 2.06-.94-2.06-.94-.94-2.06-.94 2.06-2.06.94z\"/><path d=\"M17.41 7.96l-1.37-1.37c-.4-.4-.92-.59-1.43-.59-.52 0-1.04.2-1.43.59L10.3 9.45l-7.72 7.72c-.78.78-.78 2.05 0 2.83L4 21.41c.39.39.9.59 1.41.59.51 0 1.02-.2 1.41-.59l7.78-7.78 2.81-2.81c.8-.78.8-2.07 0-2.86zM5.41 20L4 18.59l7.72-7.72 1.47 1.35L5.41 20z\"/>\n",
              "  </svg>\n",
              "      </button>\n",
              "      \n",
              "  <style>\n",
              "    .colab-df-container {\n",
              "      display:flex;\n",
              "      flex-wrap:wrap;\n",
              "      gap: 12px;\n",
              "    }\n",
              "\n",
              "    .colab-df-convert {\n",
              "      background-color: #E8F0FE;\n",
              "      border: none;\n",
              "      border-radius: 50%;\n",
              "      cursor: pointer;\n",
              "      display: none;\n",
              "      fill: #1967D2;\n",
              "      height: 32px;\n",
              "      padding: 0 0 0 0;\n",
              "      width: 32px;\n",
              "    }\n",
              "\n",
              "    .colab-df-convert:hover {\n",
              "      background-color: #E2EBFA;\n",
              "      box-shadow: 0px 1px 2px rgba(60, 64, 67, 0.3), 0px 1px 3px 1px rgba(60, 64, 67, 0.15);\n",
              "      fill: #174EA6;\n",
              "    }\n",
              "\n",
              "    [theme=dark] .colab-df-convert {\n",
              "      background-color: #3B4455;\n",
              "      fill: #D2E3FC;\n",
              "    }\n",
              "\n",
              "    [theme=dark] .colab-df-convert:hover {\n",
              "      background-color: #434B5C;\n",
              "      box-shadow: 0px 1px 3px 1px rgba(0, 0, 0, 0.15);\n",
              "      filter: drop-shadow(0px 1px 2px rgba(0, 0, 0, 0.3));\n",
              "      fill: #FFFFFF;\n",
              "    }\n",
              "  </style>\n",
              "\n",
              "      <script>\n",
              "        const buttonEl =\n",
              "          document.querySelector('#df-54e18d82-09f6-4f0f-a2f8-f2c9872333d2 button.colab-df-convert');\n",
              "        buttonEl.style.display =\n",
              "          google.colab.kernel.accessAllowed ? 'block' : 'none';\n",
              "\n",
              "        async function convertToInteractive(key) {\n",
              "          const element = document.querySelector('#df-54e18d82-09f6-4f0f-a2f8-f2c9872333d2');\n",
              "          const dataTable =\n",
              "            await google.colab.kernel.invokeFunction('convertToInteractive',\n",
              "                                                     [key], {});\n",
              "          if (!dataTable) return;\n",
              "\n",
              "          const docLinkHtml = 'Like what you see? Visit the ' +\n",
              "            '<a target=\"_blank\" href=https://colab.research.google.com/notebooks/data_table.ipynb>data table notebook</a>'\n",
              "            + ' to learn more about interactive tables.';\n",
              "          element.innerHTML = '';\n",
              "          dataTable['output_type'] = 'display_data';\n",
              "          await google.colab.output.renderOutput(dataTable, element);\n",
              "          const docLink = document.createElement('div');\n",
              "          docLink.innerHTML = docLinkHtml;\n",
              "          element.appendChild(docLink);\n",
              "        }\n",
              "      </script>\n",
              "    </div>\n",
              "  </div>\n",
              "  "
            ]
          },
          "metadata": {},
          "execution_count": 61
        }
      ]
    },
    {
      "cell_type": "code",
      "source": [
        "reg_model.intercept_"
      ],
      "metadata": {
        "colab": {
          "base_uri": "https://localhost:8080/"
        },
        "id": "qMi2WgBQ_rZr",
        "outputId": "da99d2b7-650e-4dbe-87f4-79012f163973"
      },
      "execution_count": null,
      "outputs": [
        {
          "output_type": "execute_result",
          "data": {
            "text/plain": [
              "-400305.9133335322"
            ]
          },
          "metadata": {},
          "execution_count": 62
        }
      ]
    },
    {
      "cell_type": "code",
      "source": [
        "#Here is the predicted size of the slime \n",
        "pred = reg_model.predict(X_test)\n",
        "pred"
      ],
      "metadata": {
        "colab": {
          "base_uri": "https://localhost:8080/"
        },
        "id": "ITyr_awOAWTG",
        "outputId": "bac648f7-0b71-48d0-af65-0f31ee3cfb01"
      },
      "execution_count": null,
      "outputs": [
        {
          "output_type": "execute_result",
          "data": {
            "text/plain": [
              "array([ 134891.57109752,  566848.1770532 , 1241137.60975794,\n",
              "        -24367.1696409 ,  -70657.3340248 ,  384956.44708746,\n",
              "        467392.47066236,  960873.69862144,    8407.39619923,\n",
              "         51611.35989487,  838231.36519831, 1232720.46674085,\n",
              "        901563.3931183 , -118835.20674597,  188176.20244545,\n",
              "       1158467.7057509 ,  665263.26735435,  560560.92590561,\n",
              "        163940.53886357,  469055.93661764, 1419180.64745835,\n",
              "        -84401.29716064,  555956.53417346, 1401489.68980634,\n",
              "        450621.8221688 , 1161403.05700777,   45784.96014151,\n",
              "        408948.47482721,  421868.97874553,  645969.69402768,\n",
              "        467893.44392697,  208517.41869172, 1438187.73449241,\n",
              "        708330.20055877, 1400047.62029314,  711132.70221441,\n",
              "        942380.06884206, 1116186.8384737 , 1257396.19462681,\n",
              "        189369.12027644,   71374.08771584,  870102.22808014,\n",
              "         94087.37936384,  407174.28131093,  271473.01984826,\n",
              "        388791.32041263,  237873.60116061,  790013.37060675,\n",
              "        112125.67358907,  512139.47602221,  905252.99153208,\n",
              "       -163237.6627926 , 1056768.59266956,  757865.71816238,\n",
              "        422587.22624213,  838109.54727724, 1168808.55676556,\n",
              "        420476.72783278,  562454.20876288, 1196155.27165602,\n",
              "       1141958.63424972, -205320.64929795, -193313.545068  ,\n",
              "        882065.02954971, -233968.28100031, 1111316.74753909,\n",
              "        125465.51340122,  862352.1203292 ,  495379.97656865,\n",
              "       -260706.08232516,  463075.95885281,  636857.7605043 ,\n",
              "        958770.10968217,  514388.39855279,  139911.11783352,\n",
              "        874190.37529761,  634698.83712449, 1003517.17372194,\n",
              "        536824.90063825,  402129.82527471, 1095143.98093098,\n",
              "        752354.83621194,  438989.75107231,  175035.63703514,\n",
              "        339707.01615308,  -94234.2067607 ,  749168.99832276,\n",
              "        802198.96214839,  767320.80736899,   79090.92438656,\n",
              "         72706.82329805,  325614.2641341 ,  424739.29883178,\n",
              "         38884.61453832,  264437.03738384, 1344491.9443744 ,\n",
              "        747405.89516655,  321578.72277709,  473270.08264618,\n",
              "        772305.80675459])"
            ]
          },
          "metadata": {},
          "execution_count": 73
        }
      ]
    },
    {
      "cell_type": "code",
      "source": [
        "#here is the actual size of the slime\n",
        "y_test"
      ],
      "metadata": {
        "colab": {
          "base_uri": "https://localhost:8080/"
        },
        "id": "gsbKgYmxcDiu",
        "outputId": "b5d714b8-188a-48a9-b67a-4c882314cb5b"
      },
      "execution_count": null,
      "outputs": [
        {
          "output_type": "execute_result",
          "data": {
            "text/plain": [
              "array([ 170568.4286  ,  287802.7143  , 1577891.314   ,   45507.11429 ,\n",
              "         35586.25714 ,  317629.8571  ,  321295.      , 1073784.029   ,\n",
              "         52154.25714 ,   96892.6     ,  811164.6     , 1564196.457   ,\n",
              "        992136.6     ,   48014.71429 ,  148395.4571  , 1417962.6     ,\n",
              "        513347.1143  ,  383617.0286  ,   91852.71429 ,  401612.4286  ,\n",
              "       1926272.829   ,   57363.42857 ,  229204.0286  , 1888864.457   ,\n",
              "        410720.6     , 1431661.6     ,   61854.02857 ,  335937.8571  ,\n",
              "        359614.0286  ,  577961.0286  ,  431400.6     ,  111047.4571  ,\n",
              "       1972127.4     ,  723568.1143  , 1884801.029   ,  664790.6     ,\n",
              "       1043505.6     , 1346573.714   , 1603235.314   ,   14894.71429 ,\n",
              "         68900.31429 ,  673704.1143  ,   75092.02857 ,  365193.4     ,\n",
              "        263859.8571  ,  237863.3143  ,  141099.4571  ,  718007.4286  ,\n",
              "         82132.71429 ,  115613.2571  , 1001908.257   ,   19378.82857 ,\n",
              "       1190948.457   ,  778384.3143  ,  135712.1143  ,  863716.0286  ,\n",
              "       1387347.      ,  335545.      ,  415563.4286  , 1486659.114   ,\n",
              "       1380546.857   ,   13464.02857 ,   26066.31429 ,  851571.3143  ,\n",
              "          9974.257143, 1303041.114   ,  110457.2571  ,  901128.1143  ,\n",
              "        300269.8286  ,    7504.828571,  179392.1143  ,  408676.4571  ,\n",
              "       1084893.      ,  335550.4286  ,   82828.      ,  934857.2571  ,\n",
              "        631226.4     , 1156088.457   ,  360768.2571  ,  160466.8571  ,\n",
              "       1242194.429   ,  756182.3143  ,  374084.4571  ,  196465.0286  ,\n",
              "        226740.4286  ,   30817.11429 ,  758932.7143  ,  789596.3143  ,\n",
              "        773750.2571  ,   32629.85714 ,   89116.45714 ,   81908.45714 ,\n",
              "        387182.2571  ,   60067.11429 ,  249956.6     , 1785532.029   ,\n",
              "        489186.2571  ,  282796.4571  ,  311881.2571  ,  680894.2571  ])"
            ]
          },
          "metadata": {},
          "execution_count": 65
        }
      ]
    },
    {
      "cell_type": "code",
      "source": [
        "#Here just to check how far off it is from the actual(prediction tests)\n",
        "plt.scatter (y_test,pred)"
      ],
      "metadata": {
        "colab": {
          "base_uri": "https://localhost:8080/",
          "height": 306
        },
        "id": "hsxq91gucPAl",
        "outputId": "a892a718-4bde-4b63-c75c-68d3c0c32a81"
      },
      "execution_count": null,
      "outputs": [
        {
          "output_type": "execute_result",
          "data": {
            "text/plain": [
              "<matplotlib.collections.PathCollection at 0x7f73d88dd1d0>"
            ]
          },
          "metadata": {},
          "execution_count": 74
        },
        {
          "output_type": "display_data",
          "data": {
            "text/plain": [
              "<Figure size 432x288 with 1 Axes>"
            ],
            "image/png": "[encoded data removed]"
          },
          "metadata": {
            "needs_background": "light"
          }
        }
      ]
    },
    {
      "cell_type": "code",
      "source": [
        "#here's the Score of the model \n",
        "reg_model.score(X_test,y_test)"
      ],
      "metadata": {
        "colab": {
          "base_uri": "https://localhost:8080/"
        },
        "id": "vOeNcXidB5xc",
        "outputId": "4cb4db10-c22a-4b8a-e168-0a73fca42d3b"
      },
      "execution_count": null,
      "outputs": [
        {
          "output_type": "execute_result",
          "data": {
            "text/plain": [
              "0.8761646752736477"
            ]
          },
          "metadata": {},
          "execution_count": 71
        }
      ]
    },
    {
      "cell_type": "markdown",
      "source": [
        ""
      ],
      "metadata": {
        "id": "pqEKXuvFgIHu"
      }
    },
    {
      "cell_type": "markdown",
      "metadata": {
        "id": "Lt6_sH2GvvgA"
      },
      "source": [
        "## Part 4. Use Cross Validation"
      ]
    },
    {
      "cell_type": "code",
      "execution_count": null,
      "metadata": {
        "id": "ga40PCslvvgB",
        "colab": {
          "base_uri": "https://localhost:8080/"
        },
        "outputId": "150d3940-01df-45ea-821f-a387f0affc2f"
      },
      "outputs": [
        {
          "output_type": "stream",
          "name": "stdout",
          "text": [
            "Cross-validated scores: [0.84218925 0.86742607 0.87093863 0.8604674  0.84826261 0.86031557]\n"
          ]
        }
      ],
      "source": [
        "# Use the cross_val_score function to repeat your experiment across many shuffles of the data\n",
        "\n",
        "scores = cross_val_score(reg_model, X, y, cv=6)\n",
        "print (\"Cross-validated scores:\", scores)\n",
        "\n",
        "# Report on their finding and their significance"
      ]
    },
    {
      "cell_type": "markdown",
      "metadata": {
        "id": "pip_0yvYvvgC"
      },
      "source": [
        "## Part 5. Using Polynomial Regression"
      ]
    },
    {
      "cell_type": "code",
      "execution_count": null,
      "metadata": {
        "id": "oYVjcp8evvgD",
        "colab": {
          "base_uri": "https://localhost:8080/"
        },
        "outputId": "0d34bca3-985f-4cce-dc69-debe3f19adab"
      },
      "outputs": [
        {
          "output_type": "execute_result",
          "data": {
            "text/plain": [
              "LinearRegression()"
            ]
          },
          "metadata": {},
          "execution_count": 77
        }
      ],
      "source": [
        "# Using the PolynomialFeatures library perform another regression on an augmented dataset of degree 2\n",
        "poly_f = PolynomialFeatures(degree=2)\n",
        "X_train_poly = poly_f.fit_transform(X)\n",
        "  \n",
        "# fit the transformed features to Linear Regression\n",
        "poly_model = LinearRegression()\n",
        "poly_model.fit(X_train_poly,y)\n",
        "  \n",
        "# Report on the metrics and output the resultant equation as you did in Part 3."
      ]
    },
    {
      "cell_type": "code",
      "source": [
        "y_predic = poly_model.predict(poly_f.fit_transform(X_test))\n",
        "y_predic"
      ],
      "metadata": {
        "colab": {
          "base_uri": "https://localhost:8080/"
        },
        "id": "OosO5pH5GuCp",
        "outputId": "bc9f1e7b-9e49-41c3-cf52-26314c35022b"
      },
      "execution_count": null,
      "outputs": [
        {
          "output_type": "execute_result",
          "data": {
            "text/plain": [
              "array([ 170568.42856566,  287802.71428226, 1577891.31429041,\n",
              "         45507.114277  ,   35586.25713585,  317629.85713351,\n",
              "        321294.99999546, 1073784.02856338,   52154.25713313,\n",
              "         96892.59999123,  811164.60000886, 1564196.45715321,\n",
              "        992136.59999286,   48014.71428772,  148395.45713199,\n",
              "       1417962.59999901,  513347.11429117,  383617.02856474,\n",
              "         91852.71429261,  401612.42856311, 1926272.82860233,\n",
              "         57363.42857561,  229204.02857014, 1888864.45717243,\n",
              "        410720.59999046, 1431661.60000507,   61854.02856091,\n",
              "        335937.85713636,  359614.02856397,  577961.02856959,\n",
              "        431400.59999049,  111047.45713212, 1972127.40002986,\n",
              "        723568.11427734, 1884801.02860131,  664790.60000021,\n",
              "       1043505.60000324, 1346573.71429269, 1603235.31430309,\n",
              "         14894.71429882,   68900.31427481,  673704.1143133 ,\n",
              "         75092.02856028,  365193.39999018,  263859.85713337,\n",
              "        237863.31428429,  141099.45714628,  718007.42858014,\n",
              "         82132.71429306,  115613.25714646, 1001908.25713797,\n",
              "         19378.82856912, 1190948.45715954,  778384.31428138,\n",
              "        135712.11428947,  863716.02855983, 1387347.00002433,\n",
              "        335544.9999938 ,  415563.42857071, 1486659.11428586,\n",
              "       1380546.85713934,   13464.02858478,   26066.31429274,\n",
              "        851571.31429957,    9974.25714519, 1303041.11430254,\n",
              "        110457.2571473 ,  901128.11428914,  300269.82857025,\n",
              "          7504.8285759 ,  179392.11428715,  408676.45713537,\n",
              "       1084892.99999602,  335550.4285663 ,   82828.00000755,\n",
              "        934857.25714415,  631226.39999048, 1156088.45713939,\n",
              "        360768.25713688,  160466.85713997, 1242194.42859301,\n",
              "        756182.31427442,  374084.45713511,  196465.02856522,\n",
              "        226740.42856263,   30817.11427971,  758932.71427476,\n",
              "        789596.31427333,  773750.25713148,   32629.8571552 ,\n",
              "         89116.45713267,   81908.45715025,  387182.25713303,\n",
              "         60067.11427533,  249956.59999424, 1785532.02858662,\n",
              "        489186.25716233,  282796.45713261,  311881.25713921,\n",
              "        680894.25715174])"
            ]
          },
          "metadata": {},
          "execution_count": 18
        }
      ]
    },
    {
      "cell_type": "code",
      "source": [
        ""
      ],
      "metadata": {
        "id": "5uhf0rTFImRb"
      },
      "execution_count": null,
      "outputs": []
    }
  ],
  "metadata": {
    "kernelspec": {
      "display_name": "Python 3",
      "language": "python",
      "name": "python3"
    },
    "language_info": {
      "codemirror_mode": {
        "name": "ipython",
        "version": 3
      },
      "file_extension": ".py",
      "mimetype": "text/x-python",
      "name": "python",
      "nbconvert_exporter": "python",
      "pygments_lexer": "ipython3",
      "version": "3.7.4"
    },
    "colab": {
      "name": "AI_Assignment_03.ipynb",
      "provenance": [],
      "collapsed_sections": [],
      "include_colab_link": true
    }
  },
  "nbformat": 4,
  "nbformat_minor": 0
}
